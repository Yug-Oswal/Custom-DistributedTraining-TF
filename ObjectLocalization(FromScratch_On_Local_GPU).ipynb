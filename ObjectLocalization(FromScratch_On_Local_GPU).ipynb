{
  "cells": [
    {
      "cell_type": "markdown",
      "metadata": {
        "id": "view-in-github",
        "colab_type": "text"
      },
      "source": [
        "<a href=\"https://colab.research.google.com/github/Yug-Oswal/Custom-DistributedTraining-TF/blob/main/ObjectLocalization(FromScratch_On_Local_GPU).ipynb\" target=\"_parent\"><img src=\"https://colab.research.google.com/assets/colab-badge.svg\" alt=\"Open In Colab\"/></a>"
      ]
    },
    {
      "cell_type": "code",
      "execution_count": null,
      "metadata": {
        "id": "c7_KAM8h-70s"
      },
      "outputs": [],
      "source": [
        "import tensorflow as tf\n",
        "import tensorflow_datasets as tfds\n",
        "from PIL import Image, ImageDraw\n",
        "import matplotlib.pyplot as plt\n",
        "import numpy as np\n",
        "\n",
        "AUTO = tf.data.AUTOTUNE"
      ]
    },
    {
      "cell_type": "code",
      "execution_count": null,
      "metadata": {
        "colab": {
          "base_uri": "https://localhost:8080/"
        },
        "id": "yywfGsp8UovN",
        "outputId": "605d9a86-189f-42a6-fef3-03b8c490e27f"
      },
      "outputs": [
        {
          "name": "stdout",
          "output_type": "stream",
          "text": [
            "Tensorflow Version:  2.15.0\n"
          ]
        }
      ],
      "source": [
        "print(\"Tensorflow Version: \", tf.__version__)"
      ]
    },
    {
      "cell_type": "code",
      "execution_count": null,
      "metadata": {
        "colab": {
          "base_uri": "https://localhost:8080/",
          "height": 84,
          "referenced_widgets": [
            "8050004e63984604846f7eed82abc6b3",
            "c1b484ce2a194fb59d3c4ffcc25d3262",
            "12cd81e083ae4432a2b23d0367ce5f62",
            "7681b5f2f9694346b1d1e2c3c444eb82",
            "af3a8f75020947bebe9db08e1092a606",
            "425088b41a4f486aa7e3c0d03f074bd5",
            "02b8aeebae3f4299b897b8b0c82224ff",
            "9fcd776038fc487aa671d22ae7526ee6",
            "a77777587b624d9fadefd86774b17d24",
            "8459703feb5d43acae0775d4a39f18d4",
            "f3edbbcb251e493897591998001b3168"
          ]
        },
        "id": "3oRUc9tB_Bv_",
        "outputId": "906b327b-4332-4ce0-8486-8171b210ed27"
      },
      "outputs": [
        {
          "name": "stderr",
          "output_type": "stream",
          "text": [
            "2024-01-24 18:52:12.516522: I tensorflow/core/common_runtime/gpu/gpu_device.cc:1929] Created device /job:localhost/replica:0/task:0/device:GPU:0 with 1077 MB memory:  -> device: 0, name: NVIDIA RTX A5000, pci bus id: 0000:65:00.0, compute capability: 8.6\n",
            "2024-01-24 18:52:12.517061: I tensorflow/core/common_runtime/gpu/gpu_device.cc:1929] Created device /job:localhost/replica:0/task:0/device:GPU:1 with 21827 MB memory:  -> device: 1, name: NVIDIA RTX A5000, pci bus id: 0000:b3:00.0, compute capability: 8.6\n"
          ]
        }
      ],
      "source": [
        "train_data, train_info = tfds.load(\"mnist\", split=\"train\", as_supervised=True, with_info=True)\n",
        "valid_data = tfds.load(\"mnist\", split=\"test\", as_supervised=True)"
      ]
    },
    {
      "cell_type": "code",
      "execution_count": null,
      "metadata": {
        "colab": {
          "base_uri": "https://localhost:8080/",
          "height": 401
        },
        "id": "r3IXXTSEAaDa",
        "outputId": "818acb21-45d8-4dbe-c9b0-c1243fade8f9"
      },
      "outputs": [
        {
          "name": "stderr",
          "output_type": "stream",
          "text": [
            "2024-01-24 18:52:12.681281: W tensorflow/core/kernels/data/cache_dataset_ops.cc:858] The calling iterator did not fully read the dataset being cached. In order to avoid unexpected truncation of the dataset, the partially cached contents of the dataset  will be discarded. This can happen if you have an input pipeline similar to `dataset.cache().take(k).repeat()`. You should use `dataset.take(k).cache().repeat()` instead.\n"
          ]
        },
        {
          "data": {
            "text/html": [
              "<style type=\"text/css\">\n",
              "</style>\n",
              "<table id=\"T_8255e\">\n",
              "  <thead>\n",
              "    <tr>\n",
              "      <th class=\"blank level0\" >&nbsp;</th>\n",
              "      <th id=\"T_8255e_level0_col0\" class=\"col_heading level0 col0\" >image</th>\n",
              "      <th id=\"T_8255e_level0_col1\" class=\"col_heading level0 col1\" >label</th>\n",
              "    </tr>\n",
              "  </thead>\n",
              "  <tbody>\n",
              "    <tr>\n",
              "      <th id=\"T_8255e_level0_row0\" class=\"row_heading level0 row0\" >0</th>\n",
              "      <td id=\"T_8255e_row0_col0\" class=\"data row0 col0\" ><img src=\"data:image/png;base64,iVBORw0KGgoAAAANSUhEUgAAABwAAAAcCAAAAABXZoBIAAAAzElEQVR4nGNgGPQg5F8qjMmEIRn1XwinRvnvp2QxdTIyMjAwMDDksd17jCnpeN6CgYGBQZfhAhbzLP+WMzAwyPz8IAkXQuh8ycDAwMAQyHr1ORZJYQYGBgYGKYYDDFgkAxgZGBikMxnnISQZYQz2J0KXjwvpqV00+YfpnsS/f//++/v3bxiSGAuMYfp97rN3b1cz7MDiEQgI+bcGmYsatlH/T+PUyPD2jwVOOaOP23Br3P3vZyZOO///v7qGARd4/EkBt7FvbuOWoyIAAPBxN9oBRuu9AAAAAElFTkSuQmCC\" alt=\"Img\" /></td>\n",
              "      <td id=\"T_8255e_row0_col1\" class=\"data row0 col1\" >4</td>\n",
              "    </tr>\n",
              "    <tr>\n",
              "      <th id=\"T_8255e_level0_row1\" class=\"row_heading level0 row1\" >1</th>\n",
              "      <td id=\"T_8255e_row1_col0\" class=\"data row1 col0\" ><img src=\"data:image/png;base64,iVBORw0KGgoAAAANSUhEUgAAABwAAAAcCAAAAABXZoBIAAAAmklEQVR4nGNgGOyAc/5KJlxyjIv+/TPEJan9798HWRgH3YhQBoZHj3HpfP/vVxQuOYF//54ieGjGNjEwXMalkeHbv3+eeCTfseAy1oCVYeofXBp3/f8lgUtO/su/azhtnPLvXwJOycv//uGU0//5bx1OySP//hngkuN5+u8tG4oIkj/VJBmO/8Il6cvAMBunlSIvX3DjlKQmAACHtTHZmy2LVAAAAABJRU5ErkJggg==\" alt=\"Img\" /></td>\n",
              "      <td id=\"T_8255e_row1_col1\" class=\"data row1 col1\" >1</td>\n",
              "    </tr>\n",
              "    <tr>\n",
              "      <th id=\"T_8255e_level0_row2\" class=\"row_heading level0 row2\" >2</th>\n",
              "      <td id=\"T_8255e_row2_col0\" class=\"data row2 col0\" ><img src=\"data:image/png;base64,iVBORw0KGgoAAAANSUhEUgAAABwAAAAcCAAAAABXZoBIAAAA+0lEQVR4nM3QvyuEARzH8feVniSFiTBcKf8A85ESNqwkdbeY5NdmY/UXiM0z+Ad0SXZ1g0vJjw0Xi86pc13eD8NleJ47q3zG76tv3x/wJxk+jQ7bf8NldT9obdNl1fWW1nGh6mtLPIm0oJVWlvuIvOvMWx1qtqWa0U2aULNNNnCtT+MQapi0waK6CoR6mcS8Wuhq4Fqj1PZjU5NQnX0DUine433dD1qZBwjOrM/EsVc9AmCj6c5MWT8XADjX2mgMi+otABN1k0/YVncAFu/VLWLbPgNBduRxLBMQHe/FZ+Zs5EtLm8kP9F81MHrZTScNelZK6sFcXzP9o3wDadaKxdoXqEQAAAAASUVORK5CYII=\" alt=\"Img\" /></td>\n",
              "      <td id=\"T_8255e_row2_col1\" class=\"data row2 col1\" >0</td>\n",
              "    </tr>\n",
              "    <tr>\n",
              "      <th id=\"T_8255e_level0_row3\" class=\"row_heading level0 row3\" >3</th>\n",
              "      <td id=\"T_8255e_row3_col0\" class=\"data row3 col0\" ><img src=\"data:image/png;base64,iVBORw0KGgoAAAANSUhEUgAAABwAAAAcCAAAAABXZoBIAAAA40lEQVR4nGNgGJpg//8OdCEWKM2obvgv/++6/zcZnJQebPuNqkjvLxI4IIgiJ3/v79/3b//9/fvv7993f/9NQzE2TZ6hc8J3JwYGBgaGK7cYeJE12n79+1cCxlH9+/cVB5LOlxy/pryHSUYyMO78gSR5W/vzU7gxfAz/cfq36fvfDw445Fr+/P3bg12KMebb37+7WbDKKSz89/fvNRmscjpb//79u0YBq5z0yb9//2bhcEvXv78fs1ixyzX//PsuHYc+gbvwAMcEmX//3kFzJxOc9YCRoesJLp3sx9+p4JIjGQAAnrpmBs0pxioAAAAASUVORK5CYII=\" alt=\"Img\" /></td>\n",
              "      <td id=\"T_8255e_row3_col1\" class=\"data row3 col1\" >7</td>\n",
              "    </tr>\n",
              "    <tr>\n",
              "      <th id=\"T_8255e_level0_row4\" class=\"row_heading level0 row4\" >4</th>\n",
              "      <td id=\"T_8255e_row4_col0\" class=\"data row4 col0\" ><img src=\"data:image/png;base64,iVBORw0KGgoAAAANSUhEUgAAABwAAAAcCAAAAABXZoBIAAABRUlEQVR4nM2RMUgCcRTGvwvFjjiuhqgIpG4Kg8QaQi6aWoo2JXAot6ZokxwdGxybWjJoapLCQRoaJBKkoIJuKDc7DAruIEmH967hvPJ/Nkdv+vh+fI//+/7Afxglyy+qK6UeW1MSg5p2twVp4lUMhGYuLSYiJiIec72AlzqNAVf1klUGYLaF3BqzXdQBbLJtc0Fgsx26ngQARA72miQLMEU08qM/PDkAAIgBC56TQV58apSZ+ex4Pw6k2fQdHly9fSYi7phmi6pRz/4uQZleVyUnPSo5wEPmAv2zYlFto9BgS+tnuRZXNGCJec6PgiWmExXALt8HRDS+U3n6zMkAhgxOCUg+YqJyEgAQp4bayxZr7OS7HYXfebtru8sT8w4MJQwAena4fihsjRjE9Ob+Zftc8ZUQWtan5KTkPN40i9VfCvi7+QIpz4HjFNztwwAAAABJRU5ErkJggg==\" alt=\"Img\" /></td>\n",
              "      <td id=\"T_8255e_row4_col1\" class=\"data row4 col1\" >8</td>\n",
              "    </tr>\n",
              "    <tr>\n",
              "      <th id=\"T_8255e_level0_row5\" class=\"row_heading level0 row5\" >5</th>\n",
              "      <td id=\"T_8255e_row5_col0\" class=\"data row5 col0\" ><img src=\"data:image/png;base64,iVBORw0KGgoAAAANSUhEUgAAABwAAAAcCAAAAABXZoBIAAAAq0lEQVR4nGNgGHjAfvqtEU5Jib9/L7LDOExokvUMDHyiODQG/fv7dyuch6ZTg4HhWTIuK6/9+1uL4KHqjFRlYHiMS+PVv/9e8OHSKcjAMOETDo2xf/5+ZkXisyBLujAx/P6NQ6Phu79/q5AFkO1U4Wdg2IJLkoGBgcEah6kMa/7+/YviVmSdSuiq0Y1dj8NU++9//57HpZOLjYFhK4okUiDsLnS5ewiXY+kGAAwdLIh/5zVbAAAAAElFTkSuQmCC\" alt=\"Img\" /></td>\n",
              "      <td id=\"T_8255e_row5_col1\" class=\"data row5 col1\" >1</td>\n",
              "    </tr>\n",
              "    <tr>\n",
              "      <th id=\"T_8255e_level0_row6\" class=\"row_heading level0 row6\" >6</th>\n",
              "      <td id=\"T_8255e_row6_col0\" class=\"data row6 col0\" ><img src=\"data:image/png;base64,iVBORw0KGgoAAAANSUhEUgAAABwAAAAcCAAAAABXZoBIAAAA8ElEQVR4nGNgoD9ghDGmGDHsePhiJzY17HP+/fv3/9+fE25YJGv/QcFtE0zJ6f/W1BaJSB/49e8cM4akXiVEbMe/f9k43Wf7498LOZyyzf/+2cE5TGiSmxgYdHFKMjAw+DLjknz1hkGFDcZhgdICUgx/bjEwMIiJMPR/R9PgeePfvx+V+mgOgoJf//79+/fvx+qEn/9+mqNL3v/37+kOSABehYgY+cMlE3/92ySh8Pjfv3//fj3d/fTp06dfvyG0Ot759+/o139w8GCxIVJ8+nUrsDL8Ot96g4Ehie3s6Q9vGJAkGRgM9BgO38cMkyEDAJC/dbTfCO84AAAAAElFTkSuQmCC\" alt=\"Img\" /></td>\n",
              "      <td id=\"T_8255e_row6_col1\" class=\"data row6 col1\" >2</td>\n",
              "    </tr>\n",
              "    <tr>\n",
              "      <th id=\"T_8255e_level0_row7\" class=\"row_heading level0 row7\" >7</th>\n",
              "      <td id=\"T_8255e_row7_col0\" class=\"data row7 col0\" ><img src=\"data:image/png;base64,iVBORw0KGgoAAAANSUhEUgAAABwAAAAcCAAAAABXZoBIAAAA0UlEQVR4nGNgGMLA7sL3TGziPBza4RPP//27CCHEAqG4tjH8UhHnYPzPwPAZQ5LTlvE/w48v84XDmX9hSH72ZmBgePjxGYOZyicMyV87ILQAN+NDhCQTqqvUJf874JTUZWC4jE/yFrofGRgYGBj8a6K33fv793ETuoMYGBjmhHMzMP5n+MWGTaPC9lvHjj/9u40Xq7EMvAwM+/7ewy7HwMCg8PnvEyQuqms1uRjWIHFZUCQVGRme45QU/s+wH6exagwPLuGUZGD4+gOP5FoGqgAAaYI4iaIJhbYAAAAASUVORK5CYII=\" alt=\"Img\" /></td>\n",
              "      <td id=\"T_8255e_row7_col1\" class=\"data row7 col1\" >7</td>\n",
              "    </tr>\n",
              "    <tr>\n",
              "      <th id=\"T_8255e_level0_row8\" class=\"row_heading level0 row8\" >8</th>\n",
              "      <td id=\"T_8255e_row8_col0\" class=\"data row8 col0\" ><img src=\"data:image/png;base64,iVBORw0KGgoAAAANSUhEUgAAABwAAAAcCAAAAABXZoBIAAAAqklEQVR4nGNgGBRA4/thKIsJU9KGWVsZl0avh/+eSOOQY9787/dCXBpb/v07hktO88u/354Qpgm6HNeyf/8WQdla6JLh//69scVhqMP3f3/jcdm499+/ibjkMn/+u8+HQ078/r9f2TjkWLb/+3cWl6EG//79CsQluebfv25ccqZf//3D5UWG5f/+7WLFISf24N8/ZzQxeGQLyjEw/MNlKtuUf29UcUnSEQAA9IU8OOTl5ywAAAAASUVORK5CYII=\" alt=\"Img\" /></td>\n",
              "      <td id=\"T_8255e_row8_col1\" class=\"data row8 col1\" >1</td>\n",
              "    </tr>\n",
              "    <tr>\n",
              "      <th id=\"T_8255e_level0_row9\" class=\"row_heading level0 row9\" >9</th>\n",
              "      <td id=\"T_8255e_row9_col0\" class=\"data row9 col0\" ><img src=\"data:image/png;base64,iVBORw0KGgoAAAANSUhEUgAAABwAAAAcCAAAAABXZoBIAAAA4UlEQVR4nNXQr0oEURTH8cOGYRdhJhlk8QUsa7GJig+wZTEMNkWDGAwmiy9gGxA2WBaD2CxbFpZ5BcVi2CriKsKUW76/uQaLzN7bLJ54Pudw/pj9VbT7ZX8lhjdAEaZkKHD7YTxFzA7CtjVDL6thy0rpdSOyzC3QjdiRwx1GzASjmOVimsbwudZlzNYr0TPL9sbT4wXcQU9Lye4nwHUA75IzBPC19pNr/S4orswezs3S5WanaknKs1Ly243OeeW9fx/oftP7yWNz6InAvQmYdxaPEYBwo9ArLgA+il6A/kV8A83dcnYN8l6lAAAAAElFTkSuQmCC\" alt=\"Img\" /></td>\n",
              "      <td id=\"T_8255e_row9_col1\" class=\"data row9 col1\" >6</td>\n",
              "    </tr>\n",
              "  </tbody>\n",
              "</table>\n"
            ],
            "text/plain": [
              "                                               image  label\n",
              "0  [[[0], [0], [0], [0], [0], [0], [0], [0], [0],...      4\n",
              "1  [[[0], [0], [0], [0], [0], [0], [0], [0], [0],...      1\n",
              "2  [[[0], [0], [0], [0], [0], [0], [0], [0], [0],...      0\n",
              "3  [[[0], [0], [0], [0], [0], [0], [0], [0], [0],...      7\n",
              "4  [[[0], [0], [0], [0], [0], [0], [0], [0], [0],...      8\n",
              "5  [[[0], [0], [0], [0], [0], [0], [0], [0], [0],...      1\n",
              "6  [[[0], [0], [0], [0], [0], [0], [0], [0], [0],...      2\n",
              "7  [[[0], [0], [0], [0], [0], [0], [0], [0], [0],...      7\n",
              "8  [[[0], [0], [0], [0], [0], [0], [0], [0], [0],...      1\n",
              "9  [[[0], [0], [0], [0], [0], [0], [0], [0], [0],...      6"
            ]
          },
          "execution_count": 7,
          "metadata": {},
          "output_type": "execute_result"
        }
      ],
      "source": [
        "ds = train_data.take(10)\n",
        "tfds.as_dataframe(ds, train_info)"
      ]
    },
    {
      "cell_type": "code",
      "execution_count": null,
      "metadata": {
        "id": "TFfMEO1tBCcT"
      },
      "outputs": [],
      "source": [
        "def transform_image(image, label):\n",
        "  x_min = tf.random.uniform((), 0, 48, dtype=tf.int64)\n",
        "  y_min = tf.random.uniform((), 0, 48, dtype=tf.int64)\n",
        "  image = tf.image.pad_to_bounding_box(image, y_min, x_min, 75, 75)\n",
        "  image = tf.cast(image, dtype=tf.float32)\n",
        "  x_min = tf.cast(x_min, dtype=tf.float32)\n",
        "  y_min = tf.cast(y_min, dtype=tf.float32)\n",
        "  image /= 255.\n",
        "  x_max = (x_min + 28) / 75\n",
        "  y_max = (y_min + 28) / 75\n",
        "  x_min /= 75\n",
        "  y_min /= 75\n",
        "\n",
        "  return image, (tf.one_hot(label, 10), [x_min, y_min, x_max, y_max])"
      ]
    },
    {
      "cell_type": "code",
      "execution_count": null,
      "metadata": {
        "id": "TxDWv_tdE_HC"
      },
      "outputs": [],
      "source": [
        "BATCH_SIZE = 32"
      ]
    },
    {
      "cell_type": "code",
      "execution_count": null,
      "metadata": {
        "id": "bnEUnU3gD6o8"
      },
      "outputs": [],
      "source": [
        "def transform_train_test_data(train_data, test_data):\n",
        "  train_data = train_data.map(transform_image, num_parallel_calls=AUTO)\n",
        "  train_data = train_data.shuffle(10000, reshuffle_each_iteration=True)\n",
        "  train_data = train_data.repeat()\n",
        "  train_data = train_data.batch(batch_size=BATCH_SIZE, drop_remainder=True)\n",
        "  train_dataset = train_data.prefetch(-1)\n",
        "\n",
        "  test_data = test_data.map(transform_image, num_parallel_calls=AUTO)\n",
        "  test_data = test_data.repeat()\n",
        "  test_dataset = test_data.batch(batch_size=BATCH_SIZE, drop_remainder=True).prefetch(-1)\n",
        "\n",
        "  return train_dataset, test_dataset"
      ]
    },
    {
      "cell_type": "code",
      "execution_count": null,
      "metadata": {
        "id": "B6M4EurIFBEU"
      },
      "outputs": [],
      "source": [
        "training_dataset, validation_dataset = transform_train_test_data(train_data, valid_data)"
      ]
    },
    {
      "cell_type": "code",
      "execution_count": null,
      "metadata": {
        "id": "vs9wLo-BFysQ"
      },
      "outputs": [],
      "source": [
        "def display_images(dataset, num):\n",
        "  count = 0\n",
        "  ds = dataset.take(1)\n",
        "  fig, axs = plt.subplots(1, num)\n",
        "  for batch in ds:\n",
        "    digits = batch[0].numpy()\n",
        "    labels = batch[1][0].numpy()\n",
        "    bboxes = batch[1][1].numpy()\n",
        "    for digit, label, bbox in zip(digits, labels, bboxes):\n",
        "      if count >= num:\n",
        "        break\n",
        "      image, xlabel = draw_bounding_boxes(digit, label, bbox)\n",
        "      axs[count].imshow(image)\n",
        "      axs[count].set_xlabel(xlabel)\n",
        "      axs[count].set_xticks([])\n",
        "      axs[count].set_yticks([])\n",
        "      count += 1\n",
        "    plt.show()\n",
        "\n",
        "def draw_bounding_boxes(digit, label, bbox):\n",
        "  xmin = bbox[0]\n",
        "  ymin = bbox[1]\n",
        "  xmax = bbox[2]\n",
        "  ymax = bbox[3]\n",
        "  image_array = digit * 255.\n",
        "  image_array = image_array.reshape((75, 75))\n",
        "  image = Image.fromarray(image_array)\n",
        "  im_width, im_height = image.size\n",
        "  draw = ImageDraw.Draw(image)\n",
        "\n",
        "  (left, top, right, bottom) = (xmin * im_width,\n",
        "                                ymin * im_height,\n",
        "                                xmax * im_width,\n",
        "                                ymax * im_height)\n",
        "  draw.line([(left, bottom), (right, bottom), (right, top), (left, top), (left, bottom)],\n",
        "            fill=\"white\")\n",
        "  return image, np.argmax(label)"
      ]
    },
    {
      "cell_type": "code",
      "execution_count": null,
      "metadata": {
        "colab": {
          "base_uri": "https://localhost:8080/",
          "height": 142
        },
        "id": "dxUlSn_rHxut",
        "outputId": "7fe703b0-79b5-42fb-987a-0a2f93aed554"
      },
      "outputs": [
        {
          "name": "stderr",
          "output_type": "stream",
          "text": [
            "2024-01-24 18:52:14.569211: W tensorflow/core/kernels/data/cache_dataset_ops.cc:858] The calling iterator did not fully read the dataset being cached. In order to avoid unexpected truncation of the dataset, the partially cached contents of the dataset  will be discarded. This can happen if you have an input pipeline similar to `dataset.cache().take(k).repeat()`. You should use `dataset.take(k).cache().repeat()` instead.\n"
          ]
        },
        {
          "data": {
            "image/png": "[encoded data removed]",
            "text/plain": [
              "<Figure size 640x480 with 5 Axes>"
            ]
          },
          "metadata": {},
          "output_type": "display_data"
        }
      ],
      "source": [
        "display_images(training_dataset, 5)"
      ]
    },
    {
      "cell_type": "code",
      "execution_count": null,
      "metadata": {
        "id": "w4ME_rFLKJFx"
      },
      "outputs": [],
      "source": [
        "# class ObjectLocalizationModel(tf.keras.Model):\n",
        "#   def __init__(self, input_shape=(75, 75, 1), filters=64, kernel=3, units=128, num_classes=10):\n",
        "#     super(ObjectLocalizationModel, self).__init__()\n",
        "#     self.conv1 = tf.keras.layers.Conv2D(16, kernel, input_shape=input_shape, activation='relu')\n",
        "#     self.max_pool = tf.keras.layers.MaxPooling2D((2, 2))\n",
        "#     self.conv2 = tf.keras.layers.Conv2D((filters-32), kernel, activation='relu')\n",
        "#     self.conv3 = tf.keras.layers.Conv2D(filters, kernel, activation='relu')\n",
        "#     self.flatten = tf.keras.layers.Flatten()\n",
        "#     self.hidden = tf.keras.layers.Dense(units=units, activation='relu')\n",
        "#     self.classification_out = tf.keras.layers.Dense(units=num_classes, activation='softmax', name=\"classification\")\n",
        "#     self.box_out = tf.keras.layers.Dense(units=4, activation='relu', name=\"bounding_box\")\n",
        "\n",
        "#   def call(self, inputs):\n",
        "#     x = self.conv1(inputs)\n",
        "#     x = self.max_pool(x)\n",
        "#     x = self.conv2(x)\n",
        "#     x = self.max_pool(x)\n",
        "#     x = self.conv3(x)\n",
        "#     x = self.max_pool(x)\n",
        "#     x = self.flatten(x)\n",
        "#     x = self.hidden(x)\n",
        "#     classes = self.classification_out(x)\n",
        "#     bbox = self.box_out(x)\n",
        "#     return {\"classification\": classes, \"bounding_box\": bbox}"
      ]
    },
    {
      "cell_type": "code",
      "execution_count": null,
      "metadata": {
        "id": "7fO30t9vc8jw"
      },
      "outputs": [],
      "source": [
        "def ObjectLocalizationModel():\n",
        "  inputs = tf.keras.layers.Input(shape=(75, 75, 1))\n",
        "  x = tf.keras.layers.Conv2D(16, (3, 3), activation='relu')(inputs)\n",
        "  x = tf.keras.layers.MaxPooling2D((2, 2))(x)\n",
        "  x = tf.keras.layers.Conv2D(32, (3, 3), activation='relu')(x)\n",
        "  x = tf.keras.layers.MaxPooling2D((2, 2))(x)\n",
        "  x = tf.keras.layers.Conv2D(64, (3, 3), activation='relu')(x)\n",
        "  x = tf.keras.layers.MaxPooling2D((2, 2))(x)\n",
        "  x = tf.keras.layers.Flatten()(x)\n",
        "  x = tf.keras.layers.Dense(units=128, activation='relu')(x)\n",
        "  classes = tf.keras.layers.Dense(units=10, activation='softmax', name=\"classification\")(x)\n",
        "  bbox = tf.keras.layers.Dense(units=4, activation='relu', name=\"bounding_box\")(x)\n",
        "\n",
        "  model = tf.keras.Model(inputs=inputs, outputs=[classes, bbox])\n",
        "  return model"
      ]
    },
    {
      "cell_type": "code",
      "execution_count": null,
      "metadata": {
        "id": "yA_CoMDsUgI5"
      },
      "outputs": [],
      "source": [
        "model = ObjectLocalizationModel()\n",
        "model.compile(\n",
        "    optimizer=\"adam\",\n",
        "    loss={\n",
        "        \"classification\": \"categorical_crossentropy\",\n",
        "        \"bounding_box\": \"mse\"\n",
        "    },\n",
        "    metrics={\n",
        "        \"classification\": \"accuracy\",\n",
        "        \"bounding_box\": \"mse\"\n",
        "    }\n",
        ")"
      ]
    },
    {
      "cell_type": "code",
      "execution_count": null,
      "metadata": {
        "colab": {
          "base_uri": "https://localhost:8080/"
        },
        "id": "xU34NjJhVbsN",
        "outputId": "b69bc77c-bc0f-4b91-bf76-123af4fb783e"
      },
      "outputs": [
        {
          "name": "stdout",
          "output_type": "stream",
          "text": [
            "Model: \"model\"\n",
            "__________________________________________________________________________________________________\n",
            " Layer (type)                Output Shape                 Param #   Connected to                  \n",
            "==================================================================================================\n",
            " input_1 (InputLayer)        [(None, 75, 75, 1)]          0         []                            \n",
            "                                                                                                  \n",
            " conv2d (Conv2D)             (None, 73, 73, 16)           160       ['input_1[0][0]']             \n",
            "                                                                                                  \n",
            " max_pooling2d (MaxPooling2  (None, 36, 36, 16)           0         ['conv2d[0][0]']              \n",
            " D)                                                                                               \n",
            "                                                                                                  \n",
            " conv2d_1 (Conv2D)           (None, 34, 34, 32)           4640      ['max_pooling2d[0][0]']       \n",
            "                                                                                                  \n",
            " max_pooling2d_1 (MaxPoolin  (None, 17, 17, 32)           0         ['conv2d_1[0][0]']            \n",
            " g2D)                                                                                             \n",
            "                                                                                                  \n",
            " conv2d_2 (Conv2D)           (None, 15, 15, 64)           18496     ['max_pooling2d_1[0][0]']     \n",
            "                                                                                                  \n",
            " max_pooling2d_2 (MaxPoolin  (None, 7, 7, 64)             0         ['conv2d_2[0][0]']            \n",
            " g2D)                                                                                             \n",
            "                                                                                                  \n",
            " flatten (Flatten)           (None, 3136)                 0         ['max_pooling2d_2[0][0]']     \n",
            "                                                                                                  \n",
            " dense (Dense)               (None, 128)                  401536    ['flatten[0][0]']             \n",
            "                                                                                                  \n",
            " classification (Dense)      (None, 10)                   1290      ['dense[0][0]']               \n",
            "                                                                                                  \n",
            " bounding_box (Dense)        (None, 4)                    516       ['dense[0][0]']               \n",
            "                                                                                                  \n",
            "==================================================================================================\n",
            "Total params: 426638 (1.63 MB)\n",
            "Trainable params: 426638 (1.63 MB)\n",
            "Non-trainable params: 0 (0.00 Byte)\n",
            "__________________________________________________________________________________________________\n"
          ]
        }
      ],
      "source": [
        "# model.predict(tf.constant([1], shape=[1, 75, 75, 1], dtype=tf.float32))\n",
        "model.summary()"
      ]
    },
    {
      "cell_type": "code",
      "execution_count": null,
      "metadata": {
        "colab": {
          "base_uri": "https://localhost:8080/",
          "height": 953
        },
        "id": "mpUr3ogfW9aE",
        "outputId": "d8e91009-354d-4000-870c-358b3f4d09bb"
      },
      "outputs": [
        {
          "name": "stdout",
          "output_type": "stream",
          "text": [
            "You must install pydot (`pip install pydot`) and install graphviz (see instructions at https://graphviz.gitlab.io/download/) for plot_model to work.\n"
          ]
        }
      ],
      "source": [
        "# Sometimes, having high modularization is not that good :) chore: Need to figure out how to\n",
        "# viz the model entirely rather than as a object localization model module\n",
        "# chore completed but not entirely solved, plot_model with class of custom model not done\n",
        "tf.keras.utils.plot_model(model)"
      ]
    },
    {
      "cell_type": "code",
      "execution_count": null,
      "metadata": {
        "colab": {
          "base_uri": "https://localhost:8080/"
        },
        "id": "ghab2Ss9YeVJ",
        "outputId": "9b80e038-f5b9-426f-e440-217a2e7231ee"
      },
      "outputs": [
        {
          "name": "stdout",
          "output_type": "stream",
          "text": [
            "Epoch 1/20\n"
          ]
        },
        {
          "name": "stderr",
          "output_type": "stream",
          "text": [
            "2024-01-24 18:52:20.461880: I external/local_xla/xla/stream_executor/cuda/cuda_dnn.cc:454] Loaded cuDNN version 8904\n",
            "2024-01-24 18:52:20.526670: I external/local_tsl/tsl/platform/default/subprocess.cc:304] Start cannot spawn child process: No such file or directory\n",
            "2024-01-24 18:52:20.768179: I external/local_tsl/tsl/platform/default/subprocess.cc:304] Start cannot spawn child process: No such file or directory\n",
            "2024-01-24 18:52:21.180531: I external/local_xla/xla/service/service.cc:168] XLA service 0x7fc869080a90 initialized for platform CUDA (this does not guarantee that XLA will be used). Devices:\n",
            "2024-01-24 18:52:21.180552: I external/local_xla/xla/service/service.cc:176]   StreamExecutor device (0): NVIDIA RTX A5000, Compute Capability 8.6\n",
            "2024-01-24 18:52:21.180556: I external/local_xla/xla/service/service.cc:176]   StreamExecutor device (1): NVIDIA RTX A5000, Compute Capability 8.6\n",
            "2024-01-24 18:52:21.184569: I tensorflow/compiler/mlir/tensorflow/utils/dump_mlir_util.cc:269] disabling MLIR crash reproducer, set env var `MLIR_CRASH_REPRODUCER_DIRECTORY` to enable.\n",
            "WARNING: All log messages before absl::InitializeLog() is called are written to STDERR\n",
            "I0000 00:00:1706102541.321428   15231 device_compiler.h:186] Compiled cluster using XLA!  This line is logged at most once for the lifetime of the process.\n"
          ]
        },
        {
          "name": "stdout",
          "output_type": "stream",
          "text": [
            "1875/1875 [==============================] - 20s 8ms/step - loss: 0.5844 - classification_loss: 0.5701 - bounding_box_loss: 0.0143 - classification_accuracy: 0.8059 - bounding_box_mse: 0.0143 - val_loss: 0.2046 - val_classification_loss: 0.1980 - val_bounding_box_loss: 0.0066 - val_classification_accuracy: 0.9389 - val_bounding_box_mse: 0.0066\n",
            "Epoch 2/20\n",
            "1875/1875 [==============================] - 15s 8ms/step - loss: 0.1521 - classification_loss: 0.1478 - bounding_box_loss: 0.0043 - classification_accuracy: 0.9545 - bounding_box_mse: 0.0043 - val_loss: 0.0915 - val_classification_loss: 0.0886 - val_bounding_box_loss: 0.0028 - val_classification_accuracy: 0.9718 - val_bounding_box_mse: 0.0028\n",
            "Epoch 3/20\n",
            "1875/1875 [==============================] - 15s 8ms/step - loss: 0.1063 - classification_loss: 0.1040 - bounding_box_loss: 0.0023 - classification_accuracy: 0.9680 - bounding_box_mse: 0.0023 - val_loss: 0.0833 - val_classification_loss: 0.0808 - val_bounding_box_loss: 0.0025 - val_classification_accuracy: 0.9729 - val_bounding_box_mse: 0.0025\n",
            "Epoch 4/20\n",
            "1875/1875 [==============================] - 15s 8ms/step - loss: 0.0896 - classification_loss: 0.0878 - bounding_box_loss: 0.0018 - classification_accuracy: 0.9732 - bounding_box_mse: 0.0018 - val_loss: 0.0644 - val_classification_loss: 0.0628 - val_bounding_box_loss: 0.0016 - val_classification_accuracy: 0.9787 - val_bounding_box_mse: 0.0016\n",
            "Epoch 5/20\n",
            "1875/1875 [==============================] - 15s 8ms/step - loss: 0.0743 - classification_loss: 0.0727 - bounding_box_loss: 0.0016 - classification_accuracy: 0.9776 - bounding_box_mse: 0.0016 - val_loss: 0.0597 - val_classification_loss: 0.0582 - val_bounding_box_loss: 0.0015 - val_classification_accuracy: 0.9803 - val_bounding_box_mse: 0.0015\n",
            "Epoch 6/20\n",
            "1875/1875 [==============================] - 15s 8ms/step - loss: 0.0665 - classification_loss: 0.0649 - bounding_box_loss: 0.0016 - classification_accuracy: 0.9795 - bounding_box_mse: 0.0016 - val_loss: 0.0560 - val_classification_loss: 0.0544 - val_bounding_box_loss: 0.0016 - val_classification_accuracy: 0.9823 - val_bounding_box_mse: 0.0016\n",
            "Epoch 7/20\n",
            "1875/1875 [==============================] - 15s 8ms/step - loss: 0.0607 - classification_loss: 0.0591 - bounding_box_loss: 0.0015 - classification_accuracy: 0.9816 - bounding_box_mse: 0.0015 - val_loss: 0.0563 - val_classification_loss: 0.0545 - val_bounding_box_loss: 0.0017 - val_classification_accuracy: 0.9821 - val_bounding_box_mse: 0.0017\n",
            "Epoch 8/20\n",
            "1875/1875 [==============================] - 15s 8ms/step - loss: 0.0553 - classification_loss: 0.0538 - bounding_box_loss: 0.0015 - classification_accuracy: 0.9836 - bounding_box_mse: 0.0015 - val_loss: 0.0525 - val_classification_loss: 0.0512 - val_bounding_box_loss: 0.0013 - val_classification_accuracy: 0.9841 - val_bounding_box_mse: 0.0013\n",
            "Epoch 9/20\n",
            "1875/1875 [==============================] - 15s 8ms/step - loss: 0.0525 - classification_loss: 0.0511 - bounding_box_loss: 0.0015 - classification_accuracy: 0.9839 - bounding_box_mse: 0.0015 - val_loss: 0.0436 - val_classification_loss: 0.0422 - val_bounding_box_loss: 0.0014 - val_classification_accuracy: 0.9862 - val_bounding_box_mse: 0.0014\n",
            "Epoch 10/20\n",
            "1875/1875 [==============================] - 15s 8ms/step - loss: 0.0488 - classification_loss: 0.0473 - bounding_box_loss: 0.0015 - classification_accuracy: 0.9856 - bounding_box_mse: 0.0015 - val_loss: 0.0524 - val_classification_loss: 0.0509 - val_bounding_box_loss: 0.0015 - val_classification_accuracy: 0.9840 - val_bounding_box_mse: 0.0015\n",
            "Epoch 11/20\n",
            "1875/1875 [==============================] - 15s 8ms/step - loss: 0.0457 - classification_loss: 0.0443 - bounding_box_loss: 0.0015 - classification_accuracy: 0.9864 - bounding_box_mse: 0.0015 - val_loss: 0.0395 - val_classification_loss: 0.0382 - val_bounding_box_loss: 0.0013 - val_classification_accuracy: 0.9868 - val_bounding_box_mse: 0.0013\n",
            "Epoch 12/20\n",
            "1875/1875 [==============================] - 15s 8ms/step - loss: 0.0438 - classification_loss: 0.0424 - bounding_box_loss: 0.0015 - classification_accuracy: 0.9866 - bounding_box_mse: 0.0015 - val_loss: 0.0422 - val_classification_loss: 0.0407 - val_bounding_box_loss: 0.0015 - val_classification_accuracy: 0.9854 - val_bounding_box_mse: 0.0015\n",
            "Epoch 13/20\n",
            "1875/1875 [==============================] - 15s 8ms/step - loss: 0.0413 - classification_loss: 0.0398 - bounding_box_loss: 0.0015 - classification_accuracy: 0.9877 - bounding_box_mse: 0.0015 - val_loss: 0.0332 - val_classification_loss: 0.0319 - val_bounding_box_loss: 0.0012 - val_classification_accuracy: 0.9893 - val_bounding_box_mse: 0.0012\n",
            "Epoch 14/20\n",
            "1875/1875 [==============================] - 15s 8ms/step - loss: 0.0413 - classification_loss: 0.0399 - bounding_box_loss: 0.0015 - classification_accuracy: 0.9874 - bounding_box_mse: 0.0015 - val_loss: 0.0418 - val_classification_loss: 0.0404 - val_bounding_box_loss: 0.0014 - val_classification_accuracy: 0.9878 - val_bounding_box_mse: 0.0014\n",
            "Epoch 15/20\n",
            "1875/1875 [==============================] - 15s 8ms/step - loss: 0.0402 - classification_loss: 0.0387 - bounding_box_loss: 0.0015 - classification_accuracy: 0.9880 - bounding_box_mse: 0.0015 - val_loss: 0.0376 - val_classification_loss: 0.0364 - val_bounding_box_loss: 0.0013 - val_classification_accuracy: 0.9895 - val_bounding_box_mse: 0.0013\n",
            "Epoch 16/20\n",
            "1875/1875 [==============================] - 15s 8ms/step - loss: 0.0377 - classification_loss: 0.0363 - bounding_box_loss: 0.0014 - classification_accuracy: 0.9885 - bounding_box_mse: 0.0014 - val_loss: 0.0353 - val_classification_loss: 0.0339 - val_bounding_box_loss: 0.0013 - val_classification_accuracy: 0.9897 - val_bounding_box_mse: 0.0013\n",
            "Epoch 17/20\n",
            "1875/1875 [==============================] - 15s 8ms/step - loss: 0.0373 - classification_loss: 0.0358 - bounding_box_loss: 0.0014 - classification_accuracy: 0.9894 - bounding_box_mse: 0.0014 - val_loss: 0.0369 - val_classification_loss: 0.0354 - val_bounding_box_loss: 0.0015 - val_classification_accuracy: 0.9880 - val_bounding_box_mse: 0.0015\n",
            "Epoch 18/20\n",
            "1875/1875 [==============================] - 15s 8ms/step - loss: 0.0354 - classification_loss: 0.0340 - bounding_box_loss: 0.0014 - classification_accuracy: 0.9894 - bounding_box_mse: 0.0014 - val_loss: 0.0326 - val_classification_loss: 0.0314 - val_bounding_box_loss: 0.0013 - val_classification_accuracy: 0.9896 - val_bounding_box_mse: 0.0013\n",
            "Epoch 19/20\n",
            "1875/1875 [==============================] - 15s 8ms/step - loss: 0.0361 - classification_loss: 0.0347 - bounding_box_loss: 0.0013 - classification_accuracy: 0.9891 - bounding_box_mse: 0.0013 - val_loss: 0.0345 - val_classification_loss: 0.0333 - val_bounding_box_loss: 0.0012 - val_classification_accuracy: 0.9891 - val_bounding_box_mse: 0.0012\n",
            "Epoch 20/20\n",
            "1875/1875 [==============================] - 15s 8ms/step - loss: 0.0345 - classification_loss: 0.0332 - bounding_box_loss: 0.0013 - classification_accuracy: 0.9899 - bounding_box_mse: 0.0013 - val_loss: 0.0351 - val_classification_loss: 0.0337 - val_bounding_box_loss: 0.0014 - val_classification_accuracy: 0.9892 - val_bounding_box_mse: 0.0014\n"
          ]
        }
      ],
      "source": [
        "EPOCHS=20\n",
        "steps_per_epoch = 60000 // BATCH_SIZE\n",
        "validation_steps = 10000 // BATCH_SIZE\n",
        "history = model.fit(training_dataset,\n",
        "          validation_data=validation_dataset,\n",
        "          epochs=EPOCHS,\n",
        "          steps_per_epoch=steps_per_epoch,\n",
        "          validation_steps=validation_steps)"
      ]
    },
    {
      "cell_type": "code",
      "execution_count": null,
      "metadata": {
        "id": "ZiUV4bMb-nRQ"
      },
      "outputs": [],
      "source": [
        "hist = history.history"
      ]
    },
    {
      "cell_type": "code",
      "execution_count": null,
      "metadata": {
        "id": "JJUxhSc6-nRQ",
        "outputId": "d08d4e0b-6f27-468f-a873-ce8441e330e9"
      },
      "outputs": [
        {
          "data": {
            "text/plain": [
              "dict_keys(['loss', 'classification_loss', 'bounding_box_loss', 'classification_accuracy', 'bounding_box_mse', 'val_loss', 'val_classification_loss', 'val_bounding_box_loss', 'val_classification_accuracy', 'val_bounding_box_mse'])"
            ]
          },
          "execution_count": 32,
          "metadata": {},
          "output_type": "execute_result"
        }
      ],
      "source": [
        "hist.keys()"
      ]
    },
    {
      "cell_type": "code",
      "execution_count": null,
      "metadata": {
        "id": "NGnwzUuO-nRQ"
      },
      "outputs": [],
      "source": [
        "loss = hist[\"loss\"]\n",
        "acc = hist[\"classification_accuracy\"]\n",
        "val_acc = hist[\"val_classification_accuracy\"]\n",
        "val_loss = hist[\"val_loss\"]\n",
        "epochs = range(EPOCHS)"
      ]
    },
    {
      "cell_type": "code",
      "execution_count": null,
      "metadata": {
        "id": "evKQNXOi-nRR",
        "outputId": "8b2d2329-2d6b-4c94-cd06-a517aa7efbef"
      },
      "outputs": [
        {
          "data": {
            "image/png": "[encoded data removed]",
            "text/plain": [
              "<Figure size 640x480 with 1 Axes>"
            ]
          },
          "metadata": {},
          "output_type": "display_data"
        }
      ],
      "source": [
        "plt.plot(epochs, loss, color='r', label=\"Training Loss\")\n",
        "plt.plot(epochs, val_loss, color='b', label=\"Validation Loss\")\n",
        "plt.legend(loc=0)\n",
        "plt.show()"
      ]
    },
    {
      "cell_type": "code",
      "execution_count": null,
      "metadata": {
        "id": "yDUkoEwF-nRR",
        "outputId": "96da508c-8f9c-4121-b222-949a32ece9a8"
      },
      "outputs": [
        {
          "name": "stdout",
          "output_type": "stream",
          "text": [
            "1/1 [==============================] - 0s 20ms/step\n"
          ]
        },
        {
          "data": {
            "image/png": "[encoded data removed]",
            "text/plain": [
              "<Figure size 640x480 with 2 Axes>"
            ]
          },
          "metadata": {},
          "output_type": "display_data"
        }
      ],
      "source": [
        "batch = validation_dataset.take(1)\n",
        "test_digit = []\n",
        "test_label = []\n",
        "test_bbox = []\n",
        "for example in batch:\n",
        "    test_digit = example[0].numpy()\n",
        "    test_label = example[1][0].numpy()\n",
        "    test_bbox = example[1][1].numpy()\n",
        "    for digit, label, bbox in zip(test_digit, test_label, test_bbox):\n",
        "        image, label = draw_bounding_boxes(digit, label, bbox)\n",
        "        output = model.predict(np.reshape(digit, [1, 75, 75, 1]))\n",
        "        pred_label = output[0]\n",
        "        pred_bbox = output[1][0]\n",
        "        fig, axs = plt.subplots(1, 2)\n",
        "        axs[0].imshow(image)\n",
        "        axs[0].set_xlabel(\"{}: True Bounding Box and Digit\".format(label))\n",
        "        axs[0].set_xticks([])\n",
        "        axs[0].set_yticks([])\n",
        "        pred_image, pred_label = draw_bounding_boxes(digit, pred_label, pred_bbox)\n",
        "        axs[1].imshow(pred_image)\n",
        "        axs[1].set_xlabel(\"{}: Predicted Bounding Box and Digit\".format(label))\n",
        "        axs[1].set_xticks([])\n",
        "        axs[1].set_yticks([])\n",
        "        break"
      ]
    },
    {
      "cell_type": "code",
      "execution_count": null,
      "metadata": {
        "id": "lnoeH3EBZUcv"
      },
      "outputs": [],
      "source": [
        "def intersection_over_union(true_box, pred_box):\n",
        "  x_min_true, y_min_true, x_max_true, y_max_true = np.split(true_box, 4, axis=1)\n",
        "  x_min_pred, y_min_pred, x_max_pred, y_max_pred = np.split(pred_box, 4, axis=1)\n",
        "\n",
        "  x_min_overlap = np.maximum(x_min_true, x_min_pred)\n",
        "  y_min_overlap = np.minimum(y_min_true, y_min_pred)\n",
        "  x_max_overlap = np.minimum(x_max_true, x_max_pred)\n",
        "  y_max_overlap = np.maximum(y_max_true, y_max_pred)\n",
        "\n",
        "  intersection_area = (np.maximum((x_max_overlap - x_min_overlap), 0) * np.maximum((y_max_overlap - y_min_overlap), 0))\n",
        "  true_box_area = (x_max_true - x_min_true) * (y_max_true - y_min_true)\n",
        "  pred_box_area = (x_max_pred - x_min_pred) * (y_max_pred - y_min_pred)\n",
        "  union_area = true_box_area + pred_box_area - intersection_area\n",
        "\n",
        "  smoothing_factor = 1e-10\n",
        "  iou = (intersection_area + smoothing_factor) / (union_area + smoothing_factor)"
      ]
    },
    {
      "cell_type": "code",
      "execution_count": null,
      "metadata": {
        "id": "2IvAi8QGiDBk"
      },
      "outputs": [],
      "source": [
        "model.save_weights(\"./checkpoints/my-checkpoint\")"
      ]
    },
    {
      "cell_type": "code",
      "execution_count": null,
      "metadata": {
        "id": "wuk5GGq235Td"
      },
      "outputs": [],
      "source": []
    }
  ],
  "metadata": {
    "colab": {
      "provenance": [],
      "include_colab_link": true
    },
    "kernelspec": {
      "display_name": "Python 3 (ipykernel)",
      "language": "python",
      "name": "python3"
    },
    "language_info": {
      "codemirror_mode": {
        "name": "ipython",
        "version": 3
      },
      "file_extension": ".py",
      "mimetype": "text/x-python",
      "name": "python",
      "nbconvert_exporter": "python",
      "pygments_lexer": "ipython3",
      "version": "3.10.12"
    },
    "widgets": {
      "application/vnd.jupyter.widget-state+json": {
        "02b8aeebae3f4299b897b8b0c82224ff": {
          "model_module": "@jupyter-widgets/controls",
          "model_module_version": "1.5.0",
          "model_name": "DescriptionStyleModel",
          "state": {
            "_model_module": "@jupyter-widgets/controls",
            "_model_module_version": "1.5.0",
            "_model_name": "DescriptionStyleModel",
            "_view_count": null,
            "_view_module": "@jupyter-widgets/base",
            "_view_module_version": "1.2.0",
            "_view_name": "StyleView",
            "description_width": ""
          }
        },
        "12cd81e083ae4432a2b23d0367ce5f62": {
          "model_module": "@jupyter-widgets/controls",
          "model_module_version": "1.5.0",
          "model_name": "FloatProgressModel",
          "state": {
            "_dom_classes": [],
            "_model_module": "@jupyter-widgets/controls",
            "_model_module_version": "1.5.0",
            "_model_name": "FloatProgressModel",
            "_view_count": null,
            "_view_module": "@jupyter-widgets/controls",
            "_view_module_version": "1.5.0",
            "_view_name": "ProgressView",
            "bar_style": "success",
            "description": "",
            "description_tooltip": null,
            "layout": "IPY_MODEL_9fcd776038fc487aa671d22ae7526ee6",
            "max": 5,
            "min": 0,
            "orientation": "horizontal",
            "style": "IPY_MODEL_a77777587b624d9fadefd86774b17d24",
            "value": 5
          }
        },
        "425088b41a4f486aa7e3c0d03f074bd5": {
          "model_module": "@jupyter-widgets/base",
          "model_module_version": "1.2.0",
          "model_name": "LayoutModel",
          "state": {
            "_model_module": "@jupyter-widgets/base",
            "_model_module_version": "1.2.0",
            "_model_name": "LayoutModel",
            "_view_count": null,
            "_view_module": "@jupyter-widgets/base",
            "_view_module_version": "1.2.0",
            "_view_name": "LayoutView",
            "align_content": null,
            "align_items": null,
            "align_self": null,
            "border": null,
            "bottom": null,
            "display": null,
            "flex": null,
            "flex_flow": null,
            "grid_area": null,
            "grid_auto_columns": null,
            "grid_auto_flow": null,
            "grid_auto_rows": null,
            "grid_column": null,
            "grid_gap": null,
            "grid_row": null,
            "grid_template_areas": null,
            "grid_template_columns": null,
            "grid_template_rows": null,
            "height": null,
            "justify_content": null,
            "justify_items": null,
            "left": null,
            "margin": null,
            "max_height": null,
            "max_width": null,
            "min_height": null,
            "min_width": null,
            "object_fit": null,
            "object_position": null,
            "order": null,
            "overflow": null,
            "overflow_x": null,
            "overflow_y": null,
            "padding": null,
            "right": null,
            "top": null,
            "visibility": null,
            "width": null
          }
        },
        "7681b5f2f9694346b1d1e2c3c444eb82": {
          "model_module": "@jupyter-widgets/controls",
          "model_module_version": "1.5.0",
          "model_name": "HTMLModel",
          "state": {
            "_dom_classes": [],
            "_model_module": "@jupyter-widgets/controls",
            "_model_module_version": "1.5.0",
            "_model_name": "HTMLModel",
            "_view_count": null,
            "_view_module": "@jupyter-widgets/controls",
            "_view_module_version": "1.5.0",
            "_view_name": "HTMLView",
            "description": "",
            "description_tooltip": null,
            "layout": "IPY_MODEL_8459703feb5d43acae0775d4a39f18d4",
            "placeholder": "​",
            "style": "IPY_MODEL_f3edbbcb251e493897591998001b3168",
            "value": " 5/5 [00:01&lt;00:00,  2.48 file/s]"
          }
        },
        "8050004e63984604846f7eed82abc6b3": {
          "model_module": "@jupyter-widgets/controls",
          "model_module_version": "1.5.0",
          "model_name": "HBoxModel",
          "state": {
            "_dom_classes": [],
            "_model_module": "@jupyter-widgets/controls",
            "_model_module_version": "1.5.0",
            "_model_name": "HBoxModel",
            "_view_count": null,
            "_view_module": "@jupyter-widgets/controls",
            "_view_module_version": "1.5.0",
            "_view_name": "HBoxView",
            "box_style": "",
            "children": [
              "IPY_MODEL_c1b484ce2a194fb59d3c4ffcc25d3262",
              "IPY_MODEL_12cd81e083ae4432a2b23d0367ce5f62",
              "IPY_MODEL_7681b5f2f9694346b1d1e2c3c444eb82"
            ],
            "layout": "IPY_MODEL_af3a8f75020947bebe9db08e1092a606"
          }
        },
        "8459703feb5d43acae0775d4a39f18d4": {
          "model_module": "@jupyter-widgets/base",
          "model_module_version": "1.2.0",
          "model_name": "LayoutModel",
          "state": {
            "_model_module": "@jupyter-widgets/base",
            "_model_module_version": "1.2.0",
            "_model_name": "LayoutModel",
            "_view_count": null,
            "_view_module": "@jupyter-widgets/base",
            "_view_module_version": "1.2.0",
            "_view_name": "LayoutView",
            "align_content": null,
            "align_items": null,
            "align_self": null,
            "border": null,
            "bottom": null,
            "display": null,
            "flex": null,
            "flex_flow": null,
            "grid_area": null,
            "grid_auto_columns": null,
            "grid_auto_flow": null,
            "grid_auto_rows": null,
            "grid_column": null,
            "grid_gap": null,
            "grid_row": null,
            "grid_template_areas": null,
            "grid_template_columns": null,
            "grid_template_rows": null,
            "height": null,
            "justify_content": null,
            "justify_items": null,
            "left": null,
            "margin": null,
            "max_height": null,
            "max_width": null,
            "min_height": null,
            "min_width": null,
            "object_fit": null,
            "object_position": null,
            "order": null,
            "overflow": null,
            "overflow_x": null,
            "overflow_y": null,
            "padding": null,
            "right": null,
            "top": null,
            "visibility": null,
            "width": null
          }
        },
        "9fcd776038fc487aa671d22ae7526ee6": {
          "model_module": "@jupyter-widgets/base",
          "model_module_version": "1.2.0",
          "model_name": "LayoutModel",
          "state": {
            "_model_module": "@jupyter-widgets/base",
            "_model_module_version": "1.2.0",
            "_model_name": "LayoutModel",
            "_view_count": null,
            "_view_module": "@jupyter-widgets/base",
            "_view_module_version": "1.2.0",
            "_view_name": "LayoutView",
            "align_content": null,
            "align_items": null,
            "align_self": null,
            "border": null,
            "bottom": null,
            "display": null,
            "flex": null,
            "flex_flow": null,
            "grid_area": null,
            "grid_auto_columns": null,
            "grid_auto_flow": null,
            "grid_auto_rows": null,
            "grid_column": null,
            "grid_gap": null,
            "grid_row": null,
            "grid_template_areas": null,
            "grid_template_columns": null,
            "grid_template_rows": null,
            "height": null,
            "justify_content": null,
            "justify_items": null,
            "left": null,
            "margin": null,
            "max_height": null,
            "max_width": null,
            "min_height": null,
            "min_width": null,
            "object_fit": null,
            "object_position": null,
            "order": null,
            "overflow": null,
            "overflow_x": null,
            "overflow_y": null,
            "padding": null,
            "right": null,
            "top": null,
            "visibility": null,
            "width": null
          }
        },
        "a77777587b624d9fadefd86774b17d24": {
          "model_module": "@jupyter-widgets/controls",
          "model_module_version": "1.5.0",
          "model_name": "ProgressStyleModel",
          "state": {
            "_model_module": "@jupyter-widgets/controls",
            "_model_module_version": "1.5.0",
            "_model_name": "ProgressStyleModel",
            "_view_count": null,
            "_view_module": "@jupyter-widgets/base",
            "_view_module_version": "1.2.0",
            "_view_name": "StyleView",
            "bar_color": null,
            "description_width": ""
          }
        },
        "af3a8f75020947bebe9db08e1092a606": {
          "model_module": "@jupyter-widgets/base",
          "model_module_version": "1.2.0",
          "model_name": "LayoutModel",
          "state": {
            "_model_module": "@jupyter-widgets/base",
            "_model_module_version": "1.2.0",
            "_model_name": "LayoutModel",
            "_view_count": null,
            "_view_module": "@jupyter-widgets/base",
            "_view_module_version": "1.2.0",
            "_view_name": "LayoutView",
            "align_content": null,
            "align_items": null,
            "align_self": null,
            "border": null,
            "bottom": null,
            "display": null,
            "flex": null,
            "flex_flow": null,
            "grid_area": null,
            "grid_auto_columns": null,
            "grid_auto_flow": null,
            "grid_auto_rows": null,
            "grid_column": null,
            "grid_gap": null,
            "grid_row": null,
            "grid_template_areas": null,
            "grid_template_columns": null,
            "grid_template_rows": null,
            "height": null,
            "justify_content": null,
            "justify_items": null,
            "left": null,
            "margin": null,
            "max_height": null,
            "max_width": null,
            "min_height": null,
            "min_width": null,
            "object_fit": null,
            "object_position": null,
            "order": null,
            "overflow": null,
            "overflow_x": null,
            "overflow_y": null,
            "padding": null,
            "right": null,
            "top": null,
            "visibility": null,
            "width": null
          }
        },
        "c1b484ce2a194fb59d3c4ffcc25d3262": {
          "model_module": "@jupyter-widgets/controls",
          "model_module_version": "1.5.0",
          "model_name": "HTMLModel",
          "state": {
            "_dom_classes": [],
            "_model_module": "@jupyter-widgets/controls",
            "_model_module_version": "1.5.0",
            "_model_name": "HTMLModel",
            "_view_count": null,
            "_view_module": "@jupyter-widgets/controls",
            "_view_module_version": "1.5.0",
            "_view_name": "HTMLView",
            "description": "",
            "description_tooltip": null,
            "layout": "IPY_MODEL_425088b41a4f486aa7e3c0d03f074bd5",
            "placeholder": "​",
            "style": "IPY_MODEL_02b8aeebae3f4299b897b8b0c82224ff",
            "value": "Dl Completed...: 100%"
          }
        },
        "f3edbbcb251e493897591998001b3168": {
          "model_module": "@jupyter-widgets/controls",
          "model_module_version": "1.5.0",
          "model_name": "DescriptionStyleModel",
          "state": {
            "_model_module": "@jupyter-widgets/controls",
            "_model_module_version": "1.5.0",
            "_model_name": "DescriptionStyleModel",
            "_view_count": null,
            "_view_module": "@jupyter-widgets/base",
            "_view_module_version": "1.2.0",
            "_view_name": "StyleView",
            "description_width": ""
          }
        }
      }
    }
  },
  "nbformat": 4,
  "nbformat_minor": 0
}