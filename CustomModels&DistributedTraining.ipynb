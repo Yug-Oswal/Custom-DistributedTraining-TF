{
  "nbformat": 4,
  "nbformat_minor": 0,
  "metadata": {
    "colab": {
      "provenance": [],
      "authorship_tag": "ABX9TyPdQ9yXBEDQy7Yc/3fs3TxA",
      "include_colab_link": true
    },
    "kernelspec": {
      "name": "python3",
      "display_name": "Python 3"
    },
    "language_info": {
      "name": "python"
    },
    "accelerator": "TPU",
    "widgets": {
      "application/vnd.jupyter.widget-state+json": {
        "8556743b635146df949014b6bc75a566": {
          "model_module": "@jupyter-widgets/controls",
          "model_name": "HBoxModel",
          "model_module_version": "1.5.0",
          "state": {
            "_dom_classes": [],
            "_model_module": "@jupyter-widgets/controls",
            "_model_module_version": "1.5.0",
            "_model_name": "HBoxModel",
            "_view_count": null,
            "_view_module": "@jupyter-widgets/controls",
            "_view_module_version": "1.5.0",
            "_view_name": "HBoxView",
            "box_style": "",
            "children": [
              "IPY_MODEL_186b1951153246229ac62520ede89d56",
              "IPY_MODEL_7d284431e9ab46708563d8df6fd966e7",
              "IPY_MODEL_ba77a4019d0b4b84af2cf858371ae1f9"
            ],
            "layout": "IPY_MODEL_bc864f6097bb4900a89ec0623e538d94"
          }
        },
        "186b1951153246229ac62520ede89d56": {
          "model_module": "@jupyter-widgets/controls",
          "model_name": "HTMLModel",
          "model_module_version": "1.5.0",
          "state": {
            "_dom_classes": [],
            "_model_module": "@jupyter-widgets/controls",
            "_model_module_version": "1.5.0",
            "_model_name": "HTMLModel",
            "_view_count": null,
            "_view_module": "@jupyter-widgets/controls",
            "_view_module_version": "1.5.0",
            "_view_name": "HTMLView",
            "description": "",
            "description_tooltip": null,
            "layout": "IPY_MODEL_fdbec35042bc48988bc16e22d1285d34",
            "placeholder": "​",
            "style": "IPY_MODEL_31129647c04d4d8db35834227d14e2c2",
            "value": "Dl Completed...: 100%"
          }
        },
        "7d284431e9ab46708563d8df6fd966e7": {
          "model_module": "@jupyter-widgets/controls",
          "model_name": "FloatProgressModel",
          "model_module_version": "1.5.0",
          "state": {
            "_dom_classes": [],
            "_model_module": "@jupyter-widgets/controls",
            "_model_module_version": "1.5.0",
            "_model_name": "FloatProgressModel",
            "_view_count": null,
            "_view_module": "@jupyter-widgets/controls",
            "_view_module_version": "1.5.0",
            "_view_name": "ProgressView",
            "bar_style": "success",
            "description": "",
            "description_tooltip": null,
            "layout": "IPY_MODEL_e607fb5d545e44088496090207b52a9c",
            "max": 5,
            "min": 0,
            "orientation": "horizontal",
            "style": "IPY_MODEL_37a7ef186bd94adcbf49be1853454f29",
            "value": 5
          }
        },
        "ba77a4019d0b4b84af2cf858371ae1f9": {
          "model_module": "@jupyter-widgets/controls",
          "model_name": "HTMLModel",
          "model_module_version": "1.5.0",
          "state": {
            "_dom_classes": [],
            "_model_module": "@jupyter-widgets/controls",
            "_model_module_version": "1.5.0",
            "_model_name": "HTMLModel",
            "_view_count": null,
            "_view_module": "@jupyter-widgets/controls",
            "_view_module_version": "1.5.0",
            "_view_name": "HTMLView",
            "description": "",
            "description_tooltip": null,
            "layout": "IPY_MODEL_9ce1196eb35d4f16ac2c25a8b046ca91",
            "placeholder": "​",
            "style": "IPY_MODEL_2fb33d13af304c398f6d42970467c869",
            "value": " 5/5 [00:00&lt;00:00, 12.28 file/s]"
          }
        },
        "bc864f6097bb4900a89ec0623e538d94": {
          "model_module": "@jupyter-widgets/base",
          "model_name": "LayoutModel",
          "model_module_version": "1.2.0",
          "state": {
            "_model_module": "@jupyter-widgets/base",
            "_model_module_version": "1.2.0",
            "_model_name": "LayoutModel",
            "_view_count": null,
            "_view_module": "@jupyter-widgets/base",
            "_view_module_version": "1.2.0",
            "_view_name": "LayoutView",
            "align_content": null,
            "align_items": null,
            "align_self": null,
            "border": null,
            "bottom": null,
            "display": null,
            "flex": null,
            "flex_flow": null,
            "grid_area": null,
            "grid_auto_columns": null,
            "grid_auto_flow": null,
            "grid_auto_rows": null,
            "grid_column": null,
            "grid_gap": null,
            "grid_row": null,
            "grid_template_areas": null,
            "grid_template_columns": null,
            "grid_template_rows": null,
            "height": null,
            "justify_content": null,
            "justify_items": null,
            "left": null,
            "margin": null,
            "max_height": null,
            "max_width": null,
            "min_height": null,
            "min_width": null,
            "object_fit": null,
            "object_position": null,
            "order": null,
            "overflow": null,
            "overflow_x": null,
            "overflow_y": null,
            "padding": null,
            "right": null,
            "top": null,
            "visibility": null,
            "width": null
          }
        },
        "fdbec35042bc48988bc16e22d1285d34": {
          "model_module": "@jupyter-widgets/base",
          "model_name": "LayoutModel",
          "model_module_version": "1.2.0",
          "state": {
            "_model_module": "@jupyter-widgets/base",
            "_model_module_version": "1.2.0",
            "_model_name": "LayoutModel",
            "_view_count": null,
            "_view_module": "@jupyter-widgets/base",
            "_view_module_version": "1.2.0",
            "_view_name": "LayoutView",
            "align_content": null,
            "align_items": null,
            "align_self": null,
            "border": null,
            "bottom": null,
            "display": null,
            "flex": null,
            "flex_flow": null,
            "grid_area": null,
            "grid_auto_columns": null,
            "grid_auto_flow": null,
            "grid_auto_rows": null,
            "grid_column": null,
            "grid_gap": null,
            "grid_row": null,
            "grid_template_areas": null,
            "grid_template_columns": null,
            "grid_template_rows": null,
            "height": null,
            "justify_content": null,
            "justify_items": null,
            "left": null,
            "margin": null,
            "max_height": null,
            "max_width": null,
            "min_height": null,
            "min_width": null,
            "object_fit": null,
            "object_position": null,
            "order": null,
            "overflow": null,
            "overflow_x": null,
            "overflow_y": null,
            "padding": null,
            "right": null,
            "top": null,
            "visibility": null,
            "width": null
          }
        },
        "31129647c04d4d8db35834227d14e2c2": {
          "model_module": "@jupyter-widgets/controls",
          "model_name": "DescriptionStyleModel",
          "model_module_version": "1.5.0",
          "state": {
            "_model_module": "@jupyter-widgets/controls",
            "_model_module_version": "1.5.0",
            "_model_name": "DescriptionStyleModel",
            "_view_count": null,
            "_view_module": "@jupyter-widgets/base",
            "_view_module_version": "1.2.0",
            "_view_name": "StyleView",
            "description_width": ""
          }
        },
        "e607fb5d545e44088496090207b52a9c": {
          "model_module": "@jupyter-widgets/base",
          "model_name": "LayoutModel",
          "model_module_version": "1.2.0",
          "state": {
            "_model_module": "@jupyter-widgets/base",
            "_model_module_version": "1.2.0",
            "_model_name": "LayoutModel",
            "_view_count": null,
            "_view_module": "@jupyter-widgets/base",
            "_view_module_version": "1.2.0",
            "_view_name": "LayoutView",
            "align_content": null,
            "align_items": null,
            "align_self": null,
            "border": null,
            "bottom": null,
            "display": null,
            "flex": null,
            "flex_flow": null,
            "grid_area": null,
            "grid_auto_columns": null,
            "grid_auto_flow": null,
            "grid_auto_rows": null,
            "grid_column": null,
            "grid_gap": null,
            "grid_row": null,
            "grid_template_areas": null,
            "grid_template_columns": null,
            "grid_template_rows": null,
            "height": null,
            "justify_content": null,
            "justify_items": null,
            "left": null,
            "margin": null,
            "max_height": null,
            "max_width": null,
            "min_height": null,
            "min_width": null,
            "object_fit": null,
            "object_position": null,
            "order": null,
            "overflow": null,
            "overflow_x": null,
            "overflow_y": null,
            "padding": null,
            "right": null,
            "top": null,
            "visibility": null,
            "width": null
          }
        },
        "37a7ef186bd94adcbf49be1853454f29": {
          "model_module": "@jupyter-widgets/controls",
          "model_name": "ProgressStyleModel",
          "model_module_version": "1.5.0",
          "state": {
            "_model_module": "@jupyter-widgets/controls",
            "_model_module_version": "1.5.0",
            "_model_name": "ProgressStyleModel",
            "_view_count": null,
            "_view_module": "@jupyter-widgets/base",
            "_view_module_version": "1.2.0",
            "_view_name": "StyleView",
            "bar_color": null,
            "description_width": ""
          }
        },
        "9ce1196eb35d4f16ac2c25a8b046ca91": {
          "model_module": "@jupyter-widgets/base",
          "model_name": "LayoutModel",
          "model_module_version": "1.2.0",
          "state": {
            "_model_module": "@jupyter-widgets/base",
            "_model_module_version": "1.2.0",
            "_model_name": "LayoutModel",
            "_view_count": null,
            "_view_module": "@jupyter-widgets/base",
            "_view_module_version": "1.2.0",
            "_view_name": "LayoutView",
            "align_content": null,
            "align_items": null,
            "align_self": null,
            "border": null,
            "bottom": null,
            "display": null,
            "flex": null,
            "flex_flow": null,
            "grid_area": null,
            "grid_auto_columns": null,
            "grid_auto_flow": null,
            "grid_auto_rows": null,
            "grid_column": null,
            "grid_gap": null,
            "grid_row": null,
            "grid_template_areas": null,
            "grid_template_columns": null,
            "grid_template_rows": null,
            "height": null,
            "justify_content": null,
            "justify_items": null,
            "left": null,
            "margin": null,
            "max_height": null,
            "max_width": null,
            "min_height": null,
            "min_width": null,
            "object_fit": null,
            "object_position": null,
            "order": null,
            "overflow": null,
            "overflow_x": null,
            "overflow_y": null,
            "padding": null,
            "right": null,
            "top": null,
            "visibility": null,
            "width": null
          }
        },
        "2fb33d13af304c398f6d42970467c869": {
          "model_module": "@jupyter-widgets/controls",
          "model_name": "DescriptionStyleModel",
          "model_module_version": "1.5.0",
          "state": {
            "_model_module": "@jupyter-widgets/controls",
            "_model_module_version": "1.5.0",
            "_model_name": "DescriptionStyleModel",
            "_view_count": null,
            "_view_module": "@jupyter-widgets/base",
            "_view_module_version": "1.2.0",
            "_view_name": "StyleView",
            "description_width": ""
          }
        }
      }
    }
  },
  "cells": [
    {
      "cell_type": "markdown",
      "metadata": {
        "id": "view-in-github",
        "colab_type": "text"
      },
      "source": [
        "<a href=\"https://colab.research.google.com/github/Yug-Oswal/Custom-DistributedTraining-TF/blob/main/CustomModels%26DistributedTraining.ipynb\" target=\"_parent\"><img src=\"https://colab.research.google.com/assets/colab-badge.svg\" alt=\"Open In Colab\"/></a>"
      ]
    },
    {
      "cell_type": "code",
      "execution_count": 16,
      "metadata": {
        "id": "6ADNXWfM_7ro"
      },
      "outputs": [],
      "source": [
        "import tensorflow as tf\n",
        "import tensorflow_datasets as tfds\n",
        "import matplotlib.pyplot as plt\n",
        "import os"
      ]
    },
    {
      "cell_type": "code",
      "source": [
        "print(\"Tensorflow version: {}\".format(tf.__version__))\n",
        "AUTO = tf.data.experimental.AUTOTUNE"
      ],
      "metadata": {
        "colab": {
          "base_uri": "https://localhost:8080/"
        },
        "id": "rar6YUedpoxt",
        "outputId": "e49006f9-d535-45f9-96c5-8ff0d2efdc56"
      },
      "execution_count": null,
      "outputs": [
        {
          "output_type": "stream",
          "name": "stdout",
          "text": [
            "Tensorflow version: 2.12.0\n"
          ]
        }
      ]
    },
    {
      "cell_type": "code",
      "source": [
        "# Finding, connecting, and initializing the TPU Cluster\n",
        "try:\n",
        "  tpu_address = 'grpc://' + os.environ['COLAB_TPU_ADDR']\n",
        "  tpu = tf.distribute.cluster_resolver.TPUClusterResolver(tpu_address)\n",
        "  tf.config.experimental_connect_to_cluster(tpu)\n",
        "  tf.tpu.experimental.initialize_tpu_system(tpu)\n",
        "  strategy = tf.distribute.TPUStrategy(tpu)\n",
        "  print('Running on TPU ', tpu.cluster_spec().as_dict()['worker'])\n",
        "  print('Number of accelerators: ', strategy.num_replicas_in_sync)\n",
        "except ValueError:\n",
        "  print('TPU failed to initialize.')"
      ],
      "metadata": {
        "colab": {
          "base_uri": "https://localhost:8080/"
        },
        "id": "gXoH5hY1AAoz",
        "outputId": "bfc661cf-af02-41f2-bfdb-61f35dc1918c"
      },
      "execution_count": null,
      "outputs": [
        {
          "output_type": "stream",
          "name": "stdout",
          "text": [
            "Running on TPU  ['10.37.197.202:8470']\n",
            "Number of accelerators:  8\n"
          ]
        }
      ]
    },
    {
      "cell_type": "code",
      "source": [
        "# Loading the mnist dataset\n",
        "train_data = tfds.load('mnist', split='train')\n",
        "test_data = tfds.load('mnist', split='test')"
      ],
      "metadata": {
        "colab": {
          "base_uri": "https://localhost:8080/",
          "height": 84,
          "referenced_widgets": [
            "8556743b635146df949014b6bc75a566",
            "186b1951153246229ac62520ede89d56",
            "7d284431e9ab46708563d8df6fd966e7",
            "ba77a4019d0b4b84af2cf858371ae1f9",
            "bc864f6097bb4900a89ec0623e538d94",
            "fdbec35042bc48988bc16e22d1285d34",
            "31129647c04d4d8db35834227d14e2c2",
            "e607fb5d545e44088496090207b52a9c",
            "37a7ef186bd94adcbf49be1853454f29",
            "9ce1196eb35d4f16ac2c25a8b046ca91",
            "2fb33d13af304c398f6d42970467c869"
          ]
        },
        "id": "AGHre7l3HuFj",
        "outputId": "b7549bc4-f988-4640-b381-67c0ebabb726"
      },
      "execution_count": null,
      "outputs": [
        {
          "output_type": "stream",
          "name": "stdout",
          "text": [
            "Downloading and preparing dataset 11.06 MiB (download: 11.06 MiB, generated: 21.00 MiB, total: 32.06 MiB) to /root/tensorflow_datasets/mnist/3.0.1...\n"
          ]
        },
        {
          "output_type": "display_data",
          "data": {
            "text/plain": [
              "Dl Completed...:   0%|          | 0/5 [00:00<?, ? file/s]"
            ],
            "application/vnd.jupyter.widget-view+json": {
              "version_major": 2,
              "version_minor": 0,
              "model_id": "8556743b635146df949014b6bc75a566"
            }
          },
          "metadata": {}
        },
        {
          "output_type": "stream",
          "name": "stdout",
          "text": [
            "Dataset mnist downloaded and prepared to /root/tensorflow_datasets/mnist/3.0.1. Subsequent calls will reuse this data.\n"
          ]
        }
      ]
    },
    {
      "cell_type": "code",
      "source": [
        "# Setting up appropriate batch size for sharding\n",
        "BUFFER_SIZE = 10000\n",
        "BATCH_SIZE_PER_REPLICA = 64\n",
        "GLOBAL_BATCH_SIZE = BATCH_SIZE_PER_REPLICA * strategy.num_replicas_in_sync"
      ],
      "metadata": {
        "id": "11Fk69KYyOmL"
      },
      "execution_count": null,
      "outputs": []
    },
    {
      "cell_type": "code",
      "source": [
        "# Shuffling, batching, and prefetching the dataset\n",
        "train_dataset = train_data.shuffle(BUFFER_SIZE).batch(GLOBAL_BATCH_SIZE).prefetch(AUTO)\n",
        "test_dataset = test_data.batch(GLOBAL_BATCH_SIZE)\n",
        "# Sharding dataset\n",
        "train_dataset = strategy.experimental_distribute_dataset(train_dataset)\n",
        "test_dataset = strategy.experimental_distribute_dataset(test_dataset)"
      ],
      "metadata": {
        "id": "O-jRsSsQyjOk"
      },
      "execution_count": null,
      "outputs": []
    },
    {
      "cell_type": "code",
      "source": [
        "class CustomModel(tf.keras.Model):\n",
        "  def __init__(self, filters=32, kernel=3, units=128, output_units=10):\n",
        "    super(CustomModel, self).__init__()\n",
        "    self.conv = tf.keras.layers.Conv2D(filters, kernel, input_shape=(28, 28, 1))\n",
        "    self.max_pool = tf.keras.layers.MaxPooling2D()\n",
        "    self.flatten = tf.keras.layers.Flatten()\n",
        "    self.hidden1 = tf.keras.layers.Dense(units, activation='relu')\n",
        "    self.out = tf.keras.layers.Dense(output_units)\n",
        "\n",
        "  def call(self, inputs):\n",
        "    x = self.conv(inputs)\n",
        "    x = self.max_pool(x)\n",
        "    x = self.flatten(x)\n",
        "    x = self.hidden1(x)\n",
        "    predictions = self.out(x)\n",
        "    return predictions"
      ],
      "metadata": {
        "id": "Q4qaRL7fF5u1"
      },
      "execution_count": null,
      "outputs": []
    },
    {
      "cell_type": "code",
      "source": [
        "with strategy.scope():\n",
        "  model = CustomModel()\n",
        "  loss_object = tf.keras.losses.SparseCategoricalCrossentropy(from_logits=True,\n",
        "                                                              reduction=tf.keras.losses.Reduction.NONE)\n",
        "  optimizer = tf.keras.optimizers.Adam()\n",
        "  train_accuracy = tf.keras.metrics.SparseCategoricalAccuracy()\n",
        "  test_accuracy = tf.keras.metrics.SparseCategoricalAccuracy()\n",
        "\n",
        "  def compute_loss(labels, logits):\n",
        "    loss = loss_object(labels, logits)\n",
        "    return loss"
      ],
      "metadata": {
        "id": "U3WI63oL079w"
      },
      "execution_count": 13,
      "outputs": []
    },
    {
      "cell_type": "code",
      "source": [
        "def train_step(inputs):\n",
        "  images, labels = inputs\n",
        "  with tf.GradientTape() as tape:\n",
        "    logits = model(inputs)\n",
        "    loss = compute_loss(labels, logits)\n",
        "\n",
        "  grads = tape.gradient(loss, model.trainable_variables)\n",
        "  optimizer.apply_gradients(zip(grads, model.trainable_variables))\n",
        "  predictions = tf.nn.softmax(logits)\n",
        "  train_accuracy.update_state(labels, predictions)\n",
        "\n",
        "  return loss\n",
        "\n",
        "@tf.function\n",
        "def distributed_train_step(dataset_inputs):\n",
        "  per_replica_losses = strategy.run(train_step, args=(dataset_inputs, ))\n",
        "  return strategy.reduce(tf.distribute.ReduceOp.SUM, per_replica_losses, axis=None)\n",
        "\n",
        "def test_step(test_inputs):\n",
        "  test_images, test_labels = test_inputs\n",
        "  logits = model(test_images)\n",
        "  test_loss = compute_loss(test_labels, logits)\n",
        "\n",
        "  test_accuracy.update_state(test_labels, tf.nn.softmax(logits))\n",
        "  return test_loss\n",
        "\n",
        "@tf.function\n",
        "def distributed_test_step(dataset_inputs):\n",
        "  per_replica_losses = strategy.run(test_step, args=(dataset_inputs, ))\n",
        "  return strategy.reduce(tf.distribute.ReduceOp.SUM, axis=None)"
      ],
      "metadata": {
        "id": "HOfKvVRD5EbQ"
      },
      "execution_count": null,
      "outputs": []
    },
    {
      "cell_type": "code",
      "source": [
        "# Custom Training Loop\n",
        "with strategy.scope():\n",
        "  EPOCHS = 20\n",
        "  losses = []\n",
        "  for epoch in range(EPOCHS):\n",
        "    total_loss = 0.0\n",
        "    num_batches = 0\n",
        "    for batch in train_dataset:\n",
        "      total_loss += distributed_train_step(batch)\n",
        "      num_batches += 1\n",
        "    train_loss = total_loss / num_batches\n",
        "    losses.append(train_loss)\n",
        "\n",
        "    total_test_loss = 0.0\n",
        "    num_test_batches = 0\n",
        "    for batch in test_dataset:\n",
        "      total_test_loss += distributed_test_step(batch)\n",
        "      num_test_batches += 1\n",
        "    test_loss = total_test_loss / num_batches\n",
        "\n",
        "    print(\"Epoch {}:\\nLoss: {}, Accuracy: {}, Test Loss: {}, Test Accuracy: {}\".format(\n",
        "        epoch + 1, train_loss, train_accuracy.result() * 100, test_loss, test_accuracy.result() * 100\n",
        "    ))\n",
        "\n",
        "    train_accuracy.reset_state()\n",
        "    test_accuracy.reset_state()"
      ],
      "metadata": {
        "id": "S80V7-PYsxo0"
      },
      "execution_count": null,
      "outputs": []
    }
  ]
}