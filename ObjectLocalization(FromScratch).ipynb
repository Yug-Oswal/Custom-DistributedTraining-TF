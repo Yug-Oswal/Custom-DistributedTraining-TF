{
  "nbformat": 4,
  "nbformat_minor": 0,
  "metadata": {
    "colab": {
      "provenance": [],
      "authorship_tag": "ABX9TyNLkL6M0FMazeFE9+3XDHpZ",
      "include_colab_link": true
    },
    "kernelspec": {
      "name": "python3",
      "display_name": "Python 3"
    },
    "language_info": {
      "name": "python"
    },
    "widgets": {
      "application/vnd.jupyter.widget-state+json": {
        "8050004e63984604846f7eed82abc6b3": {
          "model_module": "@jupyter-widgets/controls",
          "model_name": "HBoxModel",
          "model_module_version": "1.5.0",
          "state": {
            "_dom_classes": [],
            "_model_module": "@jupyter-widgets/controls",
            "_model_module_version": "1.5.0",
            "_model_name": "HBoxModel",
            "_view_count": null,
            "_view_module": "@jupyter-widgets/controls",
            "_view_module_version": "1.5.0",
            "_view_name": "HBoxView",
            "box_style": "",
            "children": [
              "IPY_MODEL_c1b484ce2a194fb59d3c4ffcc25d3262",
              "IPY_MODEL_12cd81e083ae4432a2b23d0367ce5f62",
              "IPY_MODEL_7681b5f2f9694346b1d1e2c3c444eb82"
            ],
            "layout": "IPY_MODEL_af3a8f75020947bebe9db08e1092a606"
          }
        },
        "c1b484ce2a194fb59d3c4ffcc25d3262": {
          "model_module": "@jupyter-widgets/controls",
          "model_name": "HTMLModel",
          "model_module_version": "1.5.0",
          "state": {
            "_dom_classes": [],
            "_model_module": "@jupyter-widgets/controls",
            "_model_module_version": "1.5.0",
            "_model_name": "HTMLModel",
            "_view_count": null,
            "_view_module": "@jupyter-widgets/controls",
            "_view_module_version": "1.5.0",
            "_view_name": "HTMLView",
            "description": "",
            "description_tooltip": null,
            "layout": "IPY_MODEL_425088b41a4f486aa7e3c0d03f074bd5",
            "placeholder": "​",
            "style": "IPY_MODEL_02b8aeebae3f4299b897b8b0c82224ff",
            "value": "Dl Completed...: 100%"
          }
        },
        "12cd81e083ae4432a2b23d0367ce5f62": {
          "model_module": "@jupyter-widgets/controls",
          "model_name": "FloatProgressModel",
          "model_module_version": "1.5.0",
          "state": {
            "_dom_classes": [],
            "_model_module": "@jupyter-widgets/controls",
            "_model_module_version": "1.5.0",
            "_model_name": "FloatProgressModel",
            "_view_count": null,
            "_view_module": "@jupyter-widgets/controls",
            "_view_module_version": "1.5.0",
            "_view_name": "ProgressView",
            "bar_style": "success",
            "description": "",
            "description_tooltip": null,
            "layout": "IPY_MODEL_9fcd776038fc487aa671d22ae7526ee6",
            "max": 5,
            "min": 0,
            "orientation": "horizontal",
            "style": "IPY_MODEL_a77777587b624d9fadefd86774b17d24",
            "value": 5
          }
        },
        "7681b5f2f9694346b1d1e2c3c444eb82": {
          "model_module": "@jupyter-widgets/controls",
          "model_name": "HTMLModel",
          "model_module_version": "1.5.0",
          "state": {
            "_dom_classes": [],
            "_model_module": "@jupyter-widgets/controls",
            "_model_module_version": "1.5.0",
            "_model_name": "HTMLModel",
            "_view_count": null,
            "_view_module": "@jupyter-widgets/controls",
            "_view_module_version": "1.5.0",
            "_view_name": "HTMLView",
            "description": "",
            "description_tooltip": null,
            "layout": "IPY_MODEL_8459703feb5d43acae0775d4a39f18d4",
            "placeholder": "​",
            "style": "IPY_MODEL_f3edbbcb251e493897591998001b3168",
            "value": " 5/5 [00:01&lt;00:00,  2.48 file/s]"
          }
        },
        "af3a8f75020947bebe9db08e1092a606": {
          "model_module": "@jupyter-widgets/base",
          "model_name": "LayoutModel",
          "model_module_version": "1.2.0",
          "state": {
            "_model_module": "@jupyter-widgets/base",
            "_model_module_version": "1.2.0",
            "_model_name": "LayoutModel",
            "_view_count": null,
            "_view_module": "@jupyter-widgets/base",
            "_view_module_version": "1.2.0",
            "_view_name": "LayoutView",
            "align_content": null,
            "align_items": null,
            "align_self": null,
            "border": null,
            "bottom": null,
            "display": null,
            "flex": null,
            "flex_flow": null,
            "grid_area": null,
            "grid_auto_columns": null,
            "grid_auto_flow": null,
            "grid_auto_rows": null,
            "grid_column": null,
            "grid_gap": null,
            "grid_row": null,
            "grid_template_areas": null,
            "grid_template_columns": null,
            "grid_template_rows": null,
            "height": null,
            "justify_content": null,
            "justify_items": null,
            "left": null,
            "margin": null,
            "max_height": null,
            "max_width": null,
            "min_height": null,
            "min_width": null,
            "object_fit": null,
            "object_position": null,
            "order": null,
            "overflow": null,
            "overflow_x": null,
            "overflow_y": null,
            "padding": null,
            "right": null,
            "top": null,
            "visibility": null,
            "width": null
          }
        },
        "425088b41a4f486aa7e3c0d03f074bd5": {
          "model_module": "@jupyter-widgets/base",
          "model_name": "LayoutModel",
          "model_module_version": "1.2.0",
          "state": {
            "_model_module": "@jupyter-widgets/base",
            "_model_module_version": "1.2.0",
            "_model_name": "LayoutModel",
            "_view_count": null,
            "_view_module": "@jupyter-widgets/base",
            "_view_module_version": "1.2.0",
            "_view_name": "LayoutView",
            "align_content": null,
            "align_items": null,
            "align_self": null,
            "border": null,
            "bottom": null,
            "display": null,
            "flex": null,
            "flex_flow": null,
            "grid_area": null,
            "grid_auto_columns": null,
            "grid_auto_flow": null,
            "grid_auto_rows": null,
            "grid_column": null,
            "grid_gap": null,
            "grid_row": null,
            "grid_template_areas": null,
            "grid_template_columns": null,
            "grid_template_rows": null,
            "height": null,
            "justify_content": null,
            "justify_items": null,
            "left": null,
            "margin": null,
            "max_height": null,
            "max_width": null,
            "min_height": null,
            "min_width": null,
            "object_fit": null,
            "object_position": null,
            "order": null,
            "overflow": null,
            "overflow_x": null,
            "overflow_y": null,
            "padding": null,
            "right": null,
            "top": null,
            "visibility": null,
            "width": null
          }
        },
        "02b8aeebae3f4299b897b8b0c82224ff": {
          "model_module": "@jupyter-widgets/controls",
          "model_name": "DescriptionStyleModel",
          "model_module_version": "1.5.0",
          "state": {
            "_model_module": "@jupyter-widgets/controls",
            "_model_module_version": "1.5.0",
            "_model_name": "DescriptionStyleModel",
            "_view_count": null,
            "_view_module": "@jupyter-widgets/base",
            "_view_module_version": "1.2.0",
            "_view_name": "StyleView",
            "description_width": ""
          }
        },
        "9fcd776038fc487aa671d22ae7526ee6": {
          "model_module": "@jupyter-widgets/base",
          "model_name": "LayoutModel",
          "model_module_version": "1.2.0",
          "state": {
            "_model_module": "@jupyter-widgets/base",
            "_model_module_version": "1.2.0",
            "_model_name": "LayoutModel",
            "_view_count": null,
            "_view_module": "@jupyter-widgets/base",
            "_view_module_version": "1.2.0",
            "_view_name": "LayoutView",
            "align_content": null,
            "align_items": null,
            "align_self": null,
            "border": null,
            "bottom": null,
            "display": null,
            "flex": null,
            "flex_flow": null,
            "grid_area": null,
            "grid_auto_columns": null,
            "grid_auto_flow": null,
            "grid_auto_rows": null,
            "grid_column": null,
            "grid_gap": null,
            "grid_row": null,
            "grid_template_areas": null,
            "grid_template_columns": null,
            "grid_template_rows": null,
            "height": null,
            "justify_content": null,
            "justify_items": null,
            "left": null,
            "margin": null,
            "max_height": null,
            "max_width": null,
            "min_height": null,
            "min_width": null,
            "object_fit": null,
            "object_position": null,
            "order": null,
            "overflow": null,
            "overflow_x": null,
            "overflow_y": null,
            "padding": null,
            "right": null,
            "top": null,
            "visibility": null,
            "width": null
          }
        },
        "a77777587b624d9fadefd86774b17d24": {
          "model_module": "@jupyter-widgets/controls",
          "model_name": "ProgressStyleModel",
          "model_module_version": "1.5.0",
          "state": {
            "_model_module": "@jupyter-widgets/controls",
            "_model_module_version": "1.5.0",
            "_model_name": "ProgressStyleModel",
            "_view_count": null,
            "_view_module": "@jupyter-widgets/base",
            "_view_module_version": "1.2.0",
            "_view_name": "StyleView",
            "bar_color": null,
            "description_width": ""
          }
        },
        "8459703feb5d43acae0775d4a39f18d4": {
          "model_module": "@jupyter-widgets/base",
          "model_name": "LayoutModel",
          "model_module_version": "1.2.0",
          "state": {
            "_model_module": "@jupyter-widgets/base",
            "_model_module_version": "1.2.0",
            "_model_name": "LayoutModel",
            "_view_count": null,
            "_view_module": "@jupyter-widgets/base",
            "_view_module_version": "1.2.0",
            "_view_name": "LayoutView",
            "align_content": null,
            "align_items": null,
            "align_self": null,
            "border": null,
            "bottom": null,
            "display": null,
            "flex": null,
            "flex_flow": null,
            "grid_area": null,
            "grid_auto_columns": null,
            "grid_auto_flow": null,
            "grid_auto_rows": null,
            "grid_column": null,
            "grid_gap": null,
            "grid_row": null,
            "grid_template_areas": null,
            "grid_template_columns": null,
            "grid_template_rows": null,
            "height": null,
            "justify_content": null,
            "justify_items": null,
            "left": null,
            "margin": null,
            "max_height": null,
            "max_width": null,
            "min_height": null,
            "min_width": null,
            "object_fit": null,
            "object_position": null,
            "order": null,
            "overflow": null,
            "overflow_x": null,
            "overflow_y": null,
            "padding": null,
            "right": null,
            "top": null,
            "visibility": null,
            "width": null
          }
        },
        "f3edbbcb251e493897591998001b3168": {
          "model_module": "@jupyter-widgets/controls",
          "model_name": "DescriptionStyleModel",
          "model_module_version": "1.5.0",
          "state": {
            "_model_module": "@jupyter-widgets/controls",
            "_model_module_version": "1.5.0",
            "_model_name": "DescriptionStyleModel",
            "_view_count": null,
            "_view_module": "@jupyter-widgets/base",
            "_view_module_version": "1.2.0",
            "_view_name": "StyleView",
            "description_width": ""
          }
        }
      }
    }
  },
  "cells": [
    {
      "cell_type": "markdown",
      "metadata": {
        "id": "view-in-github",
        "colab_type": "text"
      },
      "source": [
        "<a href=\"https://colab.research.google.com/github/Yug-Oswal/Custom-DistributedTraining-TF/blob/main/ObjectLocalization(FromScratch).ipynb\" target=\"_parent\"><img src=\"https://colab.research.google.com/assets/colab-badge.svg\" alt=\"Open In Colab\"/></a>"
      ]
    },
    {
      "cell_type": "code",
      "source": [
        "import tensorflow as tf\n",
        "import tensorflow_datasets as tfds\n",
        "from PIL import Image, ImageDraw\n",
        "import matplotlib.pyplot as plt\n",
        "import numpy as np\n",
        "\n",
        "AUTO = tf.data.AUTOTUNE"
      ],
      "metadata": {
        "id": "c7_KAM8h-70s"
      },
      "execution_count": 34,
      "outputs": []
    },
    {
      "cell_type": "code",
      "source": [
        "print(\"Tensorflow Version: \", tf.__version__)"
      ],
      "metadata": {
        "colab": {
          "base_uri": "https://localhost:8080/"
        },
        "id": "yywfGsp8UovN",
        "outputId": "605d9a86-189f-42a6-fef3-03b8c490e27f"
      },
      "execution_count": 35,
      "outputs": [
        {
          "output_type": "stream",
          "name": "stdout",
          "text": [
            "Tensorflow Version:  2.15.0\n"
          ]
        }
      ]
    },
    {
      "cell_type": "code",
      "source": [
        "train_data, train_info = tfds.load(\"mnist\", split=\"train\", as_supervised=True, with_info=True)\n",
        "valid_data = tfds.load(\"mnist\", split=\"test\", as_supervised=True)"
      ],
      "metadata": {
        "colab": {
          "base_uri": "https://localhost:8080/",
          "height": 104,
          "referenced_widgets": [
            "8050004e63984604846f7eed82abc6b3",
            "c1b484ce2a194fb59d3c4ffcc25d3262",
            "12cd81e083ae4432a2b23d0367ce5f62",
            "7681b5f2f9694346b1d1e2c3c444eb82",
            "af3a8f75020947bebe9db08e1092a606",
            "425088b41a4f486aa7e3c0d03f074bd5",
            "02b8aeebae3f4299b897b8b0c82224ff",
            "9fcd776038fc487aa671d22ae7526ee6",
            "a77777587b624d9fadefd86774b17d24",
            "8459703feb5d43acae0775d4a39f18d4",
            "f3edbbcb251e493897591998001b3168"
          ]
        },
        "id": "3oRUc9tB_Bv_",
        "outputId": "906b327b-4332-4ce0-8486-8171b210ed27"
      },
      "execution_count": 36,
      "outputs": [
        {
          "output_type": "stream",
          "name": "stdout",
          "text": [
            "Downloading and preparing dataset 11.06 MiB (download: 11.06 MiB, generated: 21.00 MiB, total: 32.06 MiB) to /root/tensorflow_datasets/mnist/3.0.1...\n"
          ]
        },
        {
          "output_type": "display_data",
          "data": {
            "text/plain": [
              "Dl Completed...:   0%|          | 0/5 [00:00<?, ? file/s]"
            ],
            "application/vnd.jupyter.widget-view+json": {
              "version_major": 2,
              "version_minor": 0,
              "model_id": "8050004e63984604846f7eed82abc6b3"
            }
          },
          "metadata": {}
        },
        {
          "output_type": "stream",
          "name": "stdout",
          "text": [
            "Dataset mnist downloaded and prepared to /root/tensorflow_datasets/mnist/3.0.1. Subsequent calls will reuse this data.\n"
          ]
        }
      ]
    },
    {
      "cell_type": "code",
      "source": [
        "ds = train_data.take(10)\n",
        "tfds.as_dataframe(ds, train_info)"
      ],
      "metadata": {
        "colab": {
          "base_uri": "https://localhost:8080/",
          "height": 401
        },
        "id": "r3IXXTSEAaDa",
        "outputId": "818acb21-45d8-4dbe-c9b0-c1243fade8f9"
      },
      "execution_count": 37,
      "outputs": [
        {
          "output_type": "execute_result",
          "data": {
            "text/plain": [
              "                                               image  label\n",
              "0  [[[0], [0], [0], [0], [0], [0], [0], [0], [0],...      4\n",
              "1  [[[0], [0], [0], [0], [0], [0], [0], [0], [0],...      1\n",
              "2  [[[0], [0], [0], [0], [0], [0], [0], [0], [0],...      0\n",
              "3  [[[0], [0], [0], [0], [0], [0], [0], [0], [0],...      7\n",
              "4  [[[0], [0], [0], [0], [0], [0], [0], [0], [0],...      8\n",
              "5  [[[0], [0], [0], [0], [0], [0], [0], [0], [0],...      1\n",
              "6  [[[0], [0], [0], [0], [0], [0], [0], [0], [0],...      2\n",
              "7  [[[0], [0], [0], [0], [0], [0], [0], [0], [0],...      7\n",
              "8  [[[0], [0], [0], [0], [0], [0], [0], [0], [0],...      1\n",
              "9  [[[0], [0], [0], [0], [0], [0], [0], [0], [0],...      6"
            ],
            "text/html": [
              "\n",
              "  <div id=\"df-e83a4c19-7b0d-410f-b656-007712776901\" class=\"colab-df-container\">\n",
              "    <style type=\"text/css\">\n",
              "</style>\n",
              "<table id=\"T_ce33d\">\n",
              "  <thead>\n",
              "    <tr>\n",
              "      <th class=\"blank level0\" >&nbsp;</th>\n",
              "      <th id=\"T_ce33d_level0_col0\" class=\"col_heading level0 col0\" >image</th>\n",
              "      <th id=\"T_ce33d_level0_col1\" class=\"col_heading level0 col1\" >label</th>\n",
              "    </tr>\n",
              "  </thead>\n",
              "  <tbody>\n",
              "    <tr>\n",
              "      <th id=\"T_ce33d_level0_row0\" class=\"row_heading level0 row0\" >0</th>\n",
              "      <td id=\"T_ce33d_row0_col0\" class=\"data row0 col0\" ><img src=\"data:image/png;base64,iVBORw0KGgoAAAANSUhEUgAAABwAAAAcCAAAAABXZoBIAAAAzElEQVR4nGNgGPQg5F8qjMmEIRn1XwinRvnvp2QxdTIyMjAwMDDksd17jCnpeN6CgYGBQZfhAhbzLP+WMzAwyPz8IAkXQuh8ycDAwMAQyHr1ORZJYQYGBgYGKYYDDFgkAxgZGBikMxnnISQZYQz2J0KXjwvpqV00+YfpnsS/f//++/v3bxiSGAuMYfp97rN3b1cz7MDiEQgI+bcGmYsatlH/T+PUyPD2jwVOOaOP23Br3P3vZyZOO///v7qGARd4/EkBt7FvbuOWoyIAAPBxN9oBRuu9AAAAAElFTkSuQmCC\" alt=\"Img\" /></td>\n",
              "      <td id=\"T_ce33d_row0_col1\" class=\"data row0 col1\" >4</td>\n",
              "    </tr>\n",
              "    <tr>\n",
              "      <th id=\"T_ce33d_level0_row1\" class=\"row_heading level0 row1\" >1</th>\n",
              "      <td id=\"T_ce33d_row1_col0\" class=\"data row1 col0\" ><img src=\"data:image/png;base64,iVBORw0KGgoAAAANSUhEUgAAABwAAAAcCAAAAABXZoBIAAAAmklEQVR4nGNgGOyAc/5KJlxyjIv+/TPEJan9798HWRgH3YhQBoZHj3HpfP/vVxQuOYF//54ieGjGNjEwXMalkeHbv3+eeCTfseAy1oCVYeofXBp3/f8lgUtO/su/azhtnPLvXwJOycv//uGU0//5bx1OySP//hngkuN5+u8tG4oIkj/VJBmO/8Il6cvAMBunlSIvX3DjlKQmAACHtTHZmy2LVAAAAABJRU5ErkJggg==\" alt=\"Img\" /></td>\n",
              "      <td id=\"T_ce33d_row1_col1\" class=\"data row1 col1\" >1</td>\n",
              "    </tr>\n",
              "    <tr>\n",
              "      <th id=\"T_ce33d_level0_row2\" class=\"row_heading level0 row2\" >2</th>\n",
              "      <td id=\"T_ce33d_row2_col0\" class=\"data row2 col0\" ><img src=\"data:image/png;base64,iVBORw0KGgoAAAANSUhEUgAAABwAAAAcCAAAAABXZoBIAAAA+0lEQVR4nM3QvyuEARzH8feVniSFiTBcKf8A85ESNqwkdbeY5NdmY/UXiM0z+Ad0SXZ1g0vJjw0Xi86pc13eD8NleJ47q3zG76tv3x/wJxk+jQ7bf8NldT9obdNl1fWW1nGh6mtLPIm0oJVWlvuIvOvMWx1qtqWa0U2aULNNNnCtT+MQapi0waK6CoR6mcS8Wuhq4Fqj1PZjU5NQnX0DUine433dD1qZBwjOrM/EsVc9AmCj6c5MWT8XADjX2mgMi+otABN1k0/YVncAFu/VLWLbPgNBduRxLBMQHe/FZ+Zs5EtLm8kP9F81MHrZTScNelZK6sFcXzP9o3wDadaKxdoXqEQAAAAASUVORK5CYII=\" alt=\"Img\" /></td>\n",
              "      <td id=\"T_ce33d_row2_col1\" class=\"data row2 col1\" >0</td>\n",
              "    </tr>\n",
              "    <tr>\n",
              "      <th id=\"T_ce33d_level0_row3\" class=\"row_heading level0 row3\" >3</th>\n",
              "      <td id=\"T_ce33d_row3_col0\" class=\"data row3 col0\" ><img src=\"data:image/png;base64,iVBORw0KGgoAAAANSUhEUgAAABwAAAAcCAAAAABXZoBIAAAA40lEQVR4nGNgGJpg//8OdCEWKM2obvgv/++6/zcZnJQebPuNqkjvLxI4IIgiJ3/v79/3b//9/fvv7993f/9NQzE2TZ6hc8J3JwYGBgaGK7cYeJE12n79+1cCxlH9+/cVB5LOlxy/pryHSUYyMO78gSR5W/vzU7gxfAz/cfq36fvfDw445Fr+/P3bg12KMebb37+7WbDKKSz89/fvNRmscjpb//79u0YBq5z0yb9//2bhcEvXv78fs1ixyzX//PsuHYc+gbvwAMcEmX//3kFzJxOc9YCRoesJLp3sx9+p4JIjGQAAnrpmBs0pxioAAAAASUVORK5CYII=\" alt=\"Img\" /></td>\n",
              "      <td id=\"T_ce33d_row3_col1\" class=\"data row3 col1\" >7</td>\n",
              "    </tr>\n",
              "    <tr>\n",
              "      <th id=\"T_ce33d_level0_row4\" class=\"row_heading level0 row4\" >4</th>\n",
              "      <td id=\"T_ce33d_row4_col0\" class=\"data row4 col0\" ><img src=\"data:image/png;base64,iVBORw0KGgoAAAANSUhEUgAAABwAAAAcCAAAAABXZoBIAAABRUlEQVR4nM2RMUgCcRTGvwvFjjiuhqgIpG4Kg8QaQi6aWoo2JXAot6ZokxwdGxybWjJoapLCQRoaJBKkoIJuKDc7DAruIEmH967hvPJ/Nkdv+vh+fI//+/7Afxglyy+qK6UeW1MSg5p2twVp4lUMhGYuLSYiJiIec72AlzqNAVf1klUGYLaF3BqzXdQBbLJtc0Fgsx26ngQARA72miQLMEU08qM/PDkAAIgBC56TQV58apSZ+ex4Pw6k2fQdHly9fSYi7phmi6pRz/4uQZleVyUnPSo5wEPmAv2zYlFto9BgS+tnuRZXNGCJec6PgiWmExXALt8HRDS+U3n6zMkAhgxOCUg+YqJyEgAQp4bayxZr7OS7HYXfebtru8sT8w4MJQwAena4fihsjRjE9Ob+Zftc8ZUQWtan5KTkPN40i9VfCvi7+QIpz4HjFNztwwAAAABJRU5ErkJggg==\" alt=\"Img\" /></td>\n",
              "      <td id=\"T_ce33d_row4_col1\" class=\"data row4 col1\" >8</td>\n",
              "    </tr>\n",
              "    <tr>\n",
              "      <th id=\"T_ce33d_level0_row5\" class=\"row_heading level0 row5\" >5</th>\n",
              "      <td id=\"T_ce33d_row5_col0\" class=\"data row5 col0\" ><img src=\"data:image/png;base64,iVBORw0KGgoAAAANSUhEUgAAABwAAAAcCAAAAABXZoBIAAAAq0lEQVR4nGNgGHjAfvqtEU5Jib9/L7LDOExokvUMDHyiODQG/fv7dyuch6ZTg4HhWTIuK6/9+1uL4KHqjFRlYHiMS+PVv/9e8OHSKcjAMOETDo2xf/5+ZkXisyBLujAx/P6NQ6Phu79/q5AFkO1U4Wdg2IJLkoGBgcEah6kMa/7+/YviVmSdSuiq0Y1dj8NU++9//57HpZOLjYFhK4okUiDsLnS5ewiXY+kGAAwdLIh/5zVbAAAAAElFTkSuQmCC\" alt=\"Img\" /></td>\n",
              "      <td id=\"T_ce33d_row5_col1\" class=\"data row5 col1\" >1</td>\n",
              "    </tr>\n",
              "    <tr>\n",
              "      <th id=\"T_ce33d_level0_row6\" class=\"row_heading level0 row6\" >6</th>\n",
              "      <td id=\"T_ce33d_row6_col0\" class=\"data row6 col0\" ><img src=\"data:image/png;base64,iVBORw0KGgoAAAANSUhEUgAAABwAAAAcCAAAAABXZoBIAAAA8ElEQVR4nGNgoD9ghDGmGDHsePhiJzY17HP+/fv3/9+fE25YJGv/QcFtE0zJ6f/W1BaJSB/49e8cM4akXiVEbMe/f9k43Wf7498LOZyyzf/+2cE5TGiSmxgYdHFKMjAw+DLjknz1hkGFDcZhgdICUgx/bjEwMIiJMPR/R9PgeePfvx+V+mgOgoJf//79+/fvx+qEn/9+mqNL3v/37+kOSABehYgY+cMlE3/92ySh8Pjfv3//fj3d/fTp06dfvyG0Ot759+/o139w8GCxIVJ8+nUrsDL8Ot96g4Ehie3s6Q9vGJAkGRgM9BgO38cMkyEDAJC/dbTfCO84AAAAAElFTkSuQmCC\" alt=\"Img\" /></td>\n",
              "      <td id=\"T_ce33d_row6_col1\" class=\"data row6 col1\" >2</td>\n",
              "    </tr>\n",
              "    <tr>\n",
              "      <th id=\"T_ce33d_level0_row7\" class=\"row_heading level0 row7\" >7</th>\n",
              "      <td id=\"T_ce33d_row7_col0\" class=\"data row7 col0\" ><img src=\"data:image/png;base64,iVBORw0KGgoAAAANSUhEUgAAABwAAAAcCAAAAABXZoBIAAAA0UlEQVR4nGNgGMLA7sL3TGziPBza4RPP//27CCHEAqG4tjH8UhHnYPzPwPAZQ5LTlvE/w48v84XDmX9hSH72ZmBgePjxGYOZyicMyV87ILQAN+NDhCQTqqvUJf874JTUZWC4jE/yFrofGRgYGBj8a6K33fv793ETuoMYGBjmhHMzMP5n+MWGTaPC9lvHjj/9u40Xq7EMvAwM+/7ewy7HwMCg8PnvEyQuqms1uRjWIHFZUCQVGRme45QU/s+wH6exagwPLuGUZGD4+gOP5FoGqgAAaYI4iaIJhbYAAAAASUVORK5CYII=\" alt=\"Img\" /></td>\n",
              "      <td id=\"T_ce33d_row7_col1\" class=\"data row7 col1\" >7</td>\n",
              "    </tr>\n",
              "    <tr>\n",
              "      <th id=\"T_ce33d_level0_row8\" class=\"row_heading level0 row8\" >8</th>\n",
              "      <td id=\"T_ce33d_row8_col0\" class=\"data row8 col0\" ><img src=\"data:image/png;base64,iVBORw0KGgoAAAANSUhEUgAAABwAAAAcCAAAAABXZoBIAAAAqklEQVR4nGNgGBRA4/thKIsJU9KGWVsZl0avh/+eSOOQY9787/dCXBpb/v07hktO88u/354Qpgm6HNeyf/8WQdla6JLh//69scVhqMP3f3/jcdm499+/ibjkMn/+u8+HQ078/r9f2TjkWLb/+3cWl6EG//79CsQluebfv25ccqZf//3D5UWG5f/+7WLFISf24N8/ZzQxeGQLyjEw/MNlKtuUf29UcUnSEQAA9IU8OOTl5ywAAAAASUVORK5CYII=\" alt=\"Img\" /></td>\n",
              "      <td id=\"T_ce33d_row8_col1\" class=\"data row8 col1\" >1</td>\n",
              "    </tr>\n",
              "    <tr>\n",
              "      <th id=\"T_ce33d_level0_row9\" class=\"row_heading level0 row9\" >9</th>\n",
              "      <td id=\"T_ce33d_row9_col0\" class=\"data row9 col0\" ><img src=\"data:image/png;base64,iVBORw0KGgoAAAANSUhEUgAAABwAAAAcCAAAAABXZoBIAAAA4UlEQVR4nNXQr0oEURTH8cOGYRdhJhlk8QUsa7GJig+wZTEMNkWDGAwmiy9gGxA2WBaD2CxbFpZ5BcVi2CriKsKUW76/uQaLzN7bLJ54Pudw/pj9VbT7ZX8lhjdAEaZkKHD7YTxFzA7CtjVDL6thy0rpdSOyzC3QjdiRwx1GzASjmOVimsbwudZlzNYr0TPL9sbT4wXcQU9Lye4nwHUA75IzBPC19pNr/S4orswezs3S5WanaknKs1Ly243OeeW9fx/oftP7yWNz6InAvQmYdxaPEYBwo9ArLgA+il6A/kV8A83dcnYN8l6lAAAAAElFTkSuQmCC\" alt=\"Img\" /></td>\n",
              "      <td id=\"T_ce33d_row9_col1\" class=\"data row9 col1\" >6</td>\n",
              "    </tr>\n",
              "  </tbody>\n",
              "</table>\n",
              "\n",
              "    <div class=\"colab-df-buttons\">\n",
              "\n",
              "  <div class=\"colab-df-container\">\n",
              "    <button class=\"colab-df-convert\" onclick=\"convertToInteractive('df-e83a4c19-7b0d-410f-b656-007712776901')\"\n",
              "            title=\"Convert this dataframe to an interactive table.\"\n",
              "            style=\"display:none;\">\n",
              "\n",
              "  <svg xmlns=\"http://www.w3.org/2000/svg\" height=\"24px\" viewBox=\"0 -960 960 960\">\n",
              "    <path d=\"M120-120v-720h720v720H120Zm60-500h600v-160H180v160Zm220 220h160v-160H400v160Zm0 220h160v-160H400v160ZM180-400h160v-160H180v160Zm440 0h160v-160H620v160ZM180-180h160v-160H180v160Zm440 0h160v-160H620v160Z\"/>\n",
              "  </svg>\n",
              "    </button>\n",
              "\n",
              "  <style>\n",
              "    .colab-df-container {\n",
              "      display:flex;\n",
              "      gap: 12px;\n",
              "    }\n",
              "\n",
              "    .colab-df-convert {\n",
              "      background-color: #E8F0FE;\n",
              "      border: none;\n",
              "      border-radius: 50%;\n",
              "      cursor: pointer;\n",
              "      display: none;\n",
              "      fill: #1967D2;\n",
              "      height: 32px;\n",
              "      padding: 0 0 0 0;\n",
              "      width: 32px;\n",
              "    }\n",
              "\n",
              "    .colab-df-convert:hover {\n",
              "      background-color: #E2EBFA;\n",
              "      box-shadow: 0px 1px 2px rgba(60, 64, 67, 0.3), 0px 1px 3px 1px rgba(60, 64, 67, 0.15);\n",
              "      fill: #174EA6;\n",
              "    }\n",
              "\n",
              "    .colab-df-buttons div {\n",
              "      margin-bottom: 4px;\n",
              "    }\n",
              "\n",
              "    [theme=dark] .colab-df-convert {\n",
              "      background-color: #3B4455;\n",
              "      fill: #D2E3FC;\n",
              "    }\n",
              "\n",
              "    [theme=dark] .colab-df-convert:hover {\n",
              "      background-color: #434B5C;\n",
              "      box-shadow: 0px 1px 3px 1px rgba(0, 0, 0, 0.15);\n",
              "      filter: drop-shadow(0px 1px 2px rgba(0, 0, 0, 0.3));\n",
              "      fill: #FFFFFF;\n",
              "    }\n",
              "  </style>\n",
              "\n",
              "    <script>\n",
              "      const buttonEl =\n",
              "        document.querySelector('#df-e83a4c19-7b0d-410f-b656-007712776901 button.colab-df-convert');\n",
              "      buttonEl.style.display =\n",
              "        google.colab.kernel.accessAllowed ? 'block' : 'none';\n",
              "\n",
              "      async function convertToInteractive(key) {\n",
              "        const element = document.querySelector('#df-e83a4c19-7b0d-410f-b656-007712776901');\n",
              "        const dataTable =\n",
              "          await google.colab.kernel.invokeFunction('convertToInteractive',\n",
              "                                                    [key], {});\n",
              "        if (!dataTable) return;\n",
              "\n",
              "        const docLinkHtml = 'Like what you see? Visit the ' +\n",
              "          '<a target=\"_blank\" href=https://colab.research.google.com/notebooks/data_table.ipynb>data table notebook</a>'\n",
              "          + ' to learn more about interactive tables.';\n",
              "        element.innerHTML = '';\n",
              "        dataTable['output_type'] = 'display_data';\n",
              "        await google.colab.output.renderOutput(dataTable, element);\n",
              "        const docLink = document.createElement('div');\n",
              "        docLink.innerHTML = docLinkHtml;\n",
              "        element.appendChild(docLink);\n",
              "      }\n",
              "    </script>\n",
              "  </div>\n",
              "\n",
              "\n",
              "<div id=\"df-0198cb62-a02d-4946-9b72-76bebb3b2b05\">\n",
              "  <button class=\"colab-df-quickchart\" onclick=\"quickchart('df-0198cb62-a02d-4946-9b72-76bebb3b2b05')\"\n",
              "            title=\"Suggest charts\"\n",
              "            style=\"display:none;\">\n",
              "\n",
              "<svg xmlns=\"http://www.w3.org/2000/svg\" height=\"24px\"viewBox=\"0 0 24 24\"\n",
              "     width=\"24px\">\n",
              "    <g>\n",
              "        <path d=\"M19 3H5c-1.1 0-2 .9-2 2v14c0 1.1.9 2 2 2h14c1.1 0 2-.9 2-2V5c0-1.1-.9-2-2-2zM9 17H7v-7h2v7zm4 0h-2V7h2v10zm4 0h-2v-4h2v4z\"/>\n",
              "    </g>\n",
              "</svg>\n",
              "  </button>\n",
              "\n",
              "<style>\n",
              "  .colab-df-quickchart {\n",
              "      --bg-color: #E8F0FE;\n",
              "      --fill-color: #1967D2;\n",
              "      --hover-bg-color: #E2EBFA;\n",
              "      --hover-fill-color: #174EA6;\n",
              "      --disabled-fill-color: #AAA;\n",
              "      --disabled-bg-color: #DDD;\n",
              "  }\n",
              "\n",
              "  [theme=dark] .colab-df-quickchart {\n",
              "      --bg-color: #3B4455;\n",
              "      --fill-color: #D2E3FC;\n",
              "      --hover-bg-color: #434B5C;\n",
              "      --hover-fill-color: #FFFFFF;\n",
              "      --disabled-bg-color: #3B4455;\n",
              "      --disabled-fill-color: #666;\n",
              "  }\n",
              "\n",
              "  .colab-df-quickchart {\n",
              "    background-color: var(--bg-color);\n",
              "    border: none;\n",
              "    border-radius: 50%;\n",
              "    cursor: pointer;\n",
              "    display: none;\n",
              "    fill: var(--fill-color);\n",
              "    height: 32px;\n",
              "    padding: 0;\n",
              "    width: 32px;\n",
              "  }\n",
              "\n",
              "  .colab-df-quickchart:hover {\n",
              "    background-color: var(--hover-bg-color);\n",
              "    box-shadow: 0 1px 2px rgba(60, 64, 67, 0.3), 0 1px 3px 1px rgba(60, 64, 67, 0.15);\n",
              "    fill: var(--button-hover-fill-color);\n",
              "  }\n",
              "\n",
              "  .colab-df-quickchart-complete:disabled,\n",
              "  .colab-df-quickchart-complete:disabled:hover {\n",
              "    background-color: var(--disabled-bg-color);\n",
              "    fill: var(--disabled-fill-color);\n",
              "    box-shadow: none;\n",
              "  }\n",
              "\n",
              "  .colab-df-spinner {\n",
              "    border: 2px solid var(--fill-color);\n",
              "    border-color: transparent;\n",
              "    border-bottom-color: var(--fill-color);\n",
              "    animation:\n",
              "      spin 1s steps(1) infinite;\n",
              "  }\n",
              "\n",
              "  @keyframes spin {\n",
              "    0% {\n",
              "      border-color: transparent;\n",
              "      border-bottom-color: var(--fill-color);\n",
              "      border-left-color: var(--fill-color);\n",
              "    }\n",
              "    20% {\n",
              "      border-color: transparent;\n",
              "      border-left-color: var(--fill-color);\n",
              "      border-top-color: var(--fill-color);\n",
              "    }\n",
              "    30% {\n",
              "      border-color: transparent;\n",
              "      border-left-color: var(--fill-color);\n",
              "      border-top-color: var(--fill-color);\n",
              "      border-right-color: var(--fill-color);\n",
              "    }\n",
              "    40% {\n",
              "      border-color: transparent;\n",
              "      border-right-color: var(--fill-color);\n",
              "      border-top-color: var(--fill-color);\n",
              "    }\n",
              "    60% {\n",
              "      border-color: transparent;\n",
              "      border-right-color: var(--fill-color);\n",
              "    }\n",
              "    80% {\n",
              "      border-color: transparent;\n",
              "      border-right-color: var(--fill-color);\n",
              "      border-bottom-color: var(--fill-color);\n",
              "    }\n",
              "    90% {\n",
              "      border-color: transparent;\n",
              "      border-bottom-color: var(--fill-color);\n",
              "    }\n",
              "  }\n",
              "</style>\n",
              "\n",
              "  <script>\n",
              "    async function quickchart(key) {\n",
              "      const quickchartButtonEl =\n",
              "        document.querySelector('#' + key + ' button');\n",
              "      quickchartButtonEl.disabled = true;  // To prevent multiple clicks.\n",
              "      quickchartButtonEl.classList.add('colab-df-spinner');\n",
              "      try {\n",
              "        const charts = await google.colab.kernel.invokeFunction(\n",
              "            'suggestCharts', [key], {});\n",
              "      } catch (error) {\n",
              "        console.error('Error during call to suggestCharts:', error);\n",
              "      }\n",
              "      quickchartButtonEl.classList.remove('colab-df-spinner');\n",
              "      quickchartButtonEl.classList.add('colab-df-quickchart-complete');\n",
              "    }\n",
              "    (() => {\n",
              "      let quickchartButtonEl =\n",
              "        document.querySelector('#df-0198cb62-a02d-4946-9b72-76bebb3b2b05 button');\n",
              "      quickchartButtonEl.style.display =\n",
              "        google.colab.kernel.accessAllowed ? 'block' : 'none';\n",
              "    })();\n",
              "  </script>\n",
              "</div>\n",
              "\n",
              "    </div>\n",
              "  </div>\n"
            ]
          },
          "metadata": {},
          "execution_count": 37
        }
      ]
    },
    {
      "cell_type": "code",
      "source": [
        "def transform_image(image, label):\n",
        "  x_min = tf.random.uniform((), 0, 48, dtype=tf.int64)\n",
        "  y_min = tf.random.uniform((), 0, 48, dtype=tf.int64)\n",
        "  image = tf.image.pad_to_bounding_box(image, y_min, x_min, 75, 75)\n",
        "  image = tf.cast(image, dtype=tf.float32)\n",
        "  x_min = tf.cast(x_min, dtype=tf.float32)\n",
        "  y_min = tf.cast(y_min, dtype=tf.float32)\n",
        "  image /= 255.\n",
        "  x_max = (x_min + 28) / 75\n",
        "  y_max = (y_min + 28) / 75\n",
        "  x_min /= 75\n",
        "  y_min /= 75\n",
        "\n",
        "  return image, (tf.one_hot(label, 10), [x_min, y_min, x_max, y_max])"
      ],
      "metadata": {
        "id": "TFfMEO1tBCcT"
      },
      "execution_count": 38,
      "outputs": []
    },
    {
      "cell_type": "code",
      "source": [
        "BATCH_SIZE = 32"
      ],
      "metadata": {
        "id": "TxDWv_tdE_HC"
      },
      "execution_count": 39,
      "outputs": []
    },
    {
      "cell_type": "code",
      "source": [
        "def transform_train_test_data(train_data, test_data):\n",
        "  train_data = train_data.map(transform_image, num_parallel_calls=AUTO)\n",
        "  train_data = train_data.shuffle(10000, reshuffle_each_iteration=True)\n",
        "  train_data = train_data.repeat()\n",
        "  train_data = train_data.batch(batch_size=BATCH_SIZE, drop_remainder=True)\n",
        "  train_dataset = train_data.prefetch(-1)\n",
        "\n",
        "  test_data = test_data.map(transform_image, num_parallel_calls=AUTO)\n",
        "  test_data = test_data.repeat()\n",
        "  test_dataset = test_data.batch(batch_size=BATCH_SIZE, drop_remainder=True).prefetch(-1)\n",
        "\n",
        "  return train_dataset, test_dataset"
      ],
      "metadata": {
        "id": "bnEUnU3gD6o8"
      },
      "execution_count": 40,
      "outputs": []
    },
    {
      "cell_type": "code",
      "source": [
        "training_dataset, validation_dataset = transform_train_test_data(train_data, valid_data)"
      ],
      "metadata": {
        "id": "B6M4EurIFBEU"
      },
      "execution_count": 41,
      "outputs": []
    },
    {
      "cell_type": "code",
      "source": [
        "def display_images(dataset, num):\n",
        "  count = 0\n",
        "  ds = dataset.take(1)\n",
        "  fig, axs = plt.subplots(1, num)\n",
        "  for batch in ds:\n",
        "    digits = batch[0].numpy()\n",
        "    labels = batch[1][0].numpy()\n",
        "    bboxes = batch[1][1].numpy()\n",
        "    for digit, label, bbox in zip(digits, labels, bboxes):\n",
        "      if count >= num:\n",
        "        break\n",
        "      image, xlabel = draw_bounding_boxes(digit, label, bbox)\n",
        "      axs[count].imshow(image)\n",
        "      axs[count].set_xlabel(xlabel)\n",
        "      axs[count].set_xticks([])\n",
        "      axs[count].set_yticks([])\n",
        "      count += 1\n",
        "    plt.show()\n",
        "\n",
        "def draw_bounding_boxes(digit, label, bbox):\n",
        "  xmin = bbox[0]\n",
        "  ymin = bbox[1]\n",
        "  xmax = bbox[2]\n",
        "  ymax = bbox[3]\n",
        "  image_array = digit * 255.\n",
        "  image_array = image_array.reshape((75, 75))\n",
        "  image = Image.fromarray(image_array)\n",
        "  im_width, im_height = image.size\n",
        "  draw = ImageDraw.Draw(image)\n",
        "\n",
        "  (left, top, right, bottom) = (xmin * im_width,\n",
        "                                ymin * im_height,\n",
        "                                xmax * im_width,\n",
        "                                ymax * im_height)\n",
        "  draw.line([(left, bottom), (right, bottom), (right, top), (left, top), (left, bottom)],\n",
        "            fill=\"white\")\n",
        "  return image, np.argmax(label)"
      ],
      "metadata": {
        "id": "vs9wLo-BFysQ"
      },
      "execution_count": 42,
      "outputs": []
    },
    {
      "cell_type": "code",
      "source": [
        "display_images(training_dataset, 5)"
      ],
      "metadata": {
        "colab": {
          "base_uri": "https://localhost:8080/",
          "height": 142
        },
        "id": "dxUlSn_rHxut",
        "outputId": "7fe703b0-79b5-42fb-987a-0a2f93aed554"
      },
      "execution_count": 43,
      "outputs": [
        {
          "output_type": "display_data",
          "data": {
            "text/plain": [
              "<Figure size 640x480 with 5 Axes>"
            ],
            "image/png": "[encoded data removed]"
          },
          "metadata": {}
        }
      ]
    },
    {
      "cell_type": "code",
      "source": [
        "# class ObjectLocalizationModel(tf.keras.Model):\n",
        "#   def __init__(self, input_shape=(75, 75, 1), filters=64, kernel=3, units=128, num_classes=10):\n",
        "#     super(ObjectLocalizationModel, self).__init__()\n",
        "#     self.conv1 = tf.keras.layers.Conv2D(16, kernel, input_shape=input_shape, activation='relu')\n",
        "#     self.max_pool = tf.keras.layers.MaxPooling2D((2, 2))\n",
        "#     self.conv2 = tf.keras.layers.Conv2D((filters-32), kernel, activation='relu')\n",
        "#     self.conv3 = tf.keras.layers.Conv2D(filters, kernel, activation='relu')\n",
        "#     self.flatten = tf.keras.layers.Flatten()\n",
        "#     self.hidden = tf.keras.layers.Dense(units=units, activation='relu')\n",
        "#     self.classification_out = tf.keras.layers.Dense(units=num_classes, activation='softmax', name=\"classification\")\n",
        "#     self.box_out = tf.keras.layers.Dense(units=4, activation='relu', name=\"bounding_box\")\n",
        "\n",
        "#   def call(self, inputs):\n",
        "#     x = self.conv1(inputs)\n",
        "#     x = self.max_pool(x)\n",
        "#     x = self.conv2(x)\n",
        "#     x = self.max_pool(x)\n",
        "#     x = self.conv3(x)\n",
        "#     x = self.max_pool(x)\n",
        "#     x = self.flatten(x)\n",
        "#     x = self.hidden(x)\n",
        "#     classes = self.classification_out(x)\n",
        "#     bbox = self.box_out(x)\n",
        "#     return {\"classification\": classes, \"bounding_box\": bbox}"
      ],
      "metadata": {
        "id": "w4ME_rFLKJFx"
      },
      "execution_count": 50,
      "outputs": []
    },
    {
      "cell_type": "code",
      "source": [
        "def ObjectLocalizationModel():\n",
        "  inputs = tf.keras.layers.Input(shape=(75, 75, 1))\n",
        "  x = tf.keras.layers.Conv2D(16, (3, 3), activation='relu')(inputs)\n",
        "  x = tf.keras.layers.MaxPooling2D((2, 2))(x)\n",
        "  x = tf.keras.layers.Conv2D(32, (3, 3), activation='relu')(x)\n",
        "  x = tf.keras.layers.MaxPooling2D((2, 2))(x)\n",
        "  x = tf.keras.layers.Conv2D(64, (3, 3), activation='relu')(x)\n",
        "  x = tf.keras.layers.MaxPooling2D((2, 2))(x)\n",
        "  x = tf.keras.layers.Flatten()(x)\n",
        "  x = tf.keras.layers.Dense(units=128, activation='relu')(x)\n",
        "  classes = tf.keras.layers.Dense(units=10, activation='softmax', name=\"classification\")(x)\n",
        "  bbox = tf.keras.layers.Dense(units=4, activation='relu', name=\"bounding_box\")(x)\n",
        "\n",
        "  model = tf.keras.Model(inputs=inputs, outputs=[classes, bbox])\n",
        "  return model"
      ],
      "metadata": {
        "id": "7fO30t9vc8jw"
      },
      "execution_count": 63,
      "outputs": []
    },
    {
      "cell_type": "code",
      "source": [
        "model = ObjectLocalizationModel()\n",
        "model.compile(\n",
        "    optimizer=\"adam\",\n",
        "    loss={\n",
        "        \"classification\": \"categorical_crossentropy\",\n",
        "        \"bounding_box\": \"mse\"\n",
        "    },\n",
        "    metrics={\n",
        "        \"classification\": \"accuracy\",\n",
        "        \"bounding_box\": \"mse\"\n",
        "    }\n",
        ")"
      ],
      "metadata": {
        "id": "yA_CoMDsUgI5"
      },
      "execution_count": 64,
      "outputs": []
    },
    {
      "cell_type": "code",
      "source": [
        "# model.predict(tf.constant([1], shape=[1, 75, 75, 1], dtype=tf.float32))\n",
        "model.summary()"
      ],
      "metadata": {
        "colab": {
          "base_uri": "https://localhost:8080/"
        },
        "id": "xU34NjJhVbsN",
        "outputId": "b69bc77c-bc0f-4b91-bf76-123af4fb783e"
      },
      "execution_count": 65,
      "outputs": [
        {
          "output_type": "stream",
          "name": "stdout",
          "text": [
            "Model: \"model_1\"\n",
            "__________________________________________________________________________________________________\n",
            " Layer (type)                Output Shape                 Param #   Connected to                  \n",
            "==================================================================================================\n",
            " input_3 (InputLayer)        [(None, 75, 75, 1)]          0         []                            \n",
            "                                                                                                  \n",
            " conv2d_27 (Conv2D)          (None, 73, 73, 16)           160       ['input_3[0][0]']             \n",
            "                                                                                                  \n",
            " max_pooling2d_12 (MaxPooli  (None, 36, 36, 16)           0         ['conv2d_27[0][0]']           \n",
            " ng2D)                                                                                            \n",
            "                                                                                                  \n",
            " conv2d_28 (Conv2D)          (None, 34, 34, 32)           4640      ['max_pooling2d_12[0][0]']    \n",
            "                                                                                                  \n",
            " max_pooling2d_13 (MaxPooli  (None, 17, 17, 32)           0         ['conv2d_28[0][0]']           \n",
            " ng2D)                                                                                            \n",
            "                                                                                                  \n",
            " conv2d_29 (Conv2D)          (None, 15, 15, 64)           18496     ['max_pooling2d_13[0][0]']    \n",
            "                                                                                                  \n",
            " max_pooling2d_14 (MaxPooli  (None, 7, 7, 64)             0         ['conv2d_29[0][0]']           \n",
            " ng2D)                                                                                            \n",
            "                                                                                                  \n",
            " flatten_6 (Flatten)         (None, 3136)                 0         ['max_pooling2d_14[0][0]']    \n",
            "                                                                                                  \n",
            " dense_15 (Dense)            (None, 128)                  401536    ['flatten_6[0][0]']           \n",
            "                                                                                                  \n",
            " classification (Dense)      (None, 10)                   1290      ['dense_15[0][0]']            \n",
            "                                                                                                  \n",
            " bounding_box (Dense)        (None, 4)                    516       ['dense_15[0][0]']            \n",
            "                                                                                                  \n",
            "==================================================================================================\n",
            "Total params: 426638 (1.63 MB)\n",
            "Trainable params: 426638 (1.63 MB)\n",
            "Non-trainable params: 0 (0.00 Byte)\n",
            "__________________________________________________________________________________________________\n"
          ]
        }
      ]
    },
    {
      "cell_type": "code",
      "source": [
        "# Sometimes, having high modularization is not that good :) chore: Need to figure out how to\n",
        "# viz the model entirely rather than as a object localization model module\n",
        "# chore completed but not entirely solved, plot_model with class of custom model not done\n",
        "tf.keras.utils.plot_model(model)"
      ],
      "metadata": {
        "colab": {
          "base_uri": "https://localhost:8080/",
          "height": 953
        },
        "id": "mpUr3ogfW9aE",
        "outputId": "d8e91009-354d-4000-870c-358b3f4d09bb"
      },
      "execution_count": 67,
      "outputs": [
        {
          "output_type": "execute_result",
          "data": {
            "image/png": "[encoded data removed]",
            "text/plain": [
              "<IPython.core.display.Image object>"
            ]
          },
          "metadata": {},
          "execution_count": 67
        }
      ]
    },
    {
      "cell_type": "code",
      "source": [
        "EPOCHS=20\n",
        "steps_per_epoch = 60000 // BATCH_SIZE\n",
        "validation_steps = 10000 // BATCH_SIZE\n",
        "model.fit(training_dataset,\n",
        "          validation_data=validation_dataset,\n",
        "          epochs=EPOCHS,\n",
        "          steps_per_epoch=steps_per_epoch,\n",
        "          validation_steps=validation_steps)"
      ],
      "metadata": {
        "colab": {
          "base_uri": "https://localhost:8080/"
        },
        "id": "ghab2Ss9YeVJ",
        "outputId": "9b80e038-f5b9-426f-e440-217a2e7231ee"
      },
      "execution_count": 68,
      "outputs": [
        {
          "output_type": "stream",
          "name": "stdout",
          "text": [
            "Epoch 1/20\n",
            "1875/1875 [==============================] - 316s 167ms/step - loss: 0.6139 - classification_loss: 0.5978 - bounding_box_loss: 0.0160 - classification_accuracy: 0.7952 - bounding_box_mse: 0.0160 - val_loss: 0.1837 - val_classification_loss: 0.1767 - val_bounding_box_loss: 0.0070 - val_classification_accuracy: 0.9430 - val_bounding_box_mse: 0.0070\n",
            "Epoch 2/20\n",
            "1875/1875 [==============================] - 316s 168ms/step - loss: 0.1673 - classification_loss: 0.1625 - bounding_box_loss: 0.0048 - classification_accuracy: 0.9493 - bounding_box_mse: 0.0048 - val_loss: 0.1416 - val_classification_loss: 0.1381 - val_bounding_box_loss: 0.0036 - val_classification_accuracy: 0.9534 - val_bounding_box_mse: 0.0036\n",
            "Epoch 3/20\n",
            "1875/1875 [==============================] - 299s 159ms/step - loss: 0.1184 - classification_loss: 0.1161 - bounding_box_loss: 0.0023 - classification_accuracy: 0.9640 - bounding_box_mse: 0.0023 - val_loss: 0.1008 - val_classification_loss: 0.0990 - val_bounding_box_loss: 0.0018 - val_classification_accuracy: 0.9680 - val_bounding_box_mse: 0.0018\n",
            "Epoch 4/20\n",
            "1875/1875 [==============================] - 269s 143ms/step - loss: 0.0925 - classification_loss: 0.0909 - bounding_box_loss: 0.0016 - classification_accuracy: 0.9715 - bounding_box_mse: 0.0016 - val_loss: 0.0719 - val_classification_loss: 0.0705 - val_bounding_box_loss: 0.0014 - val_classification_accuracy: 0.9766 - val_bounding_box_mse: 0.0014\n",
            "Epoch 5/20\n",
            "1875/1875 [==============================] - 264s 141ms/step - loss: 0.0807 - classification_loss: 0.0791 - bounding_box_loss: 0.0016 - classification_accuracy: 0.9754 - bounding_box_mse: 0.0016 - val_loss: 0.0583 - val_classification_loss: 0.0567 - val_bounding_box_loss: 0.0015 - val_classification_accuracy: 0.9823 - val_bounding_box_mse: 0.0015\n",
            "Epoch 6/20\n",
            "1875/1875 [==============================] - 257s 137ms/step - loss: 0.0701 - classification_loss: 0.0686 - bounding_box_loss: 0.0016 - classification_accuracy: 0.9786 - bounding_box_mse: 0.0016 - val_loss: 0.0720 - val_classification_loss: 0.0703 - val_bounding_box_loss: 0.0017 - val_classification_accuracy: 0.9784 - val_bounding_box_mse: 0.0017\n",
            "Epoch 7/20\n",
            "1875/1875 [==============================] - 261s 139ms/step - loss: 0.0632 - classification_loss: 0.0616 - bounding_box_loss: 0.0016 - classification_accuracy: 0.9810 - bounding_box_mse: 0.0016 - val_loss: 0.0606 - val_classification_loss: 0.0590 - val_bounding_box_loss: 0.0016 - val_classification_accuracy: 0.9814 - val_bounding_box_mse: 0.0016\n",
            "Epoch 8/20\n",
            "1875/1875 [==============================] - 251s 134ms/step - loss: 0.0584 - classification_loss: 0.0568 - bounding_box_loss: 0.0016 - classification_accuracy: 0.9829 - bounding_box_mse: 0.0016 - val_loss: 0.0509 - val_classification_loss: 0.0494 - val_bounding_box_loss: 0.0015 - val_classification_accuracy: 0.9844 - val_bounding_box_mse: 0.0015\n",
            "Epoch 9/20\n",
            "1875/1875 [==============================] - 259s 138ms/step - loss: 0.0538 - classification_loss: 0.0523 - bounding_box_loss: 0.0016 - classification_accuracy: 0.9839 - bounding_box_mse: 0.0016 - val_loss: 0.0568 - val_classification_loss: 0.0552 - val_bounding_box_loss: 0.0016 - val_classification_accuracy: 0.9831 - val_bounding_box_mse: 0.0016\n",
            "Epoch 10/20\n",
            "1875/1875 [==============================] - 261s 139ms/step - loss: 0.0498 - classification_loss: 0.0482 - bounding_box_loss: 0.0016 - classification_accuracy: 0.9850 - bounding_box_mse: 0.0016 - val_loss: 0.0422 - val_classification_loss: 0.0408 - val_bounding_box_loss: 0.0015 - val_classification_accuracy: 0.9869 - val_bounding_box_mse: 0.0015\n",
            "Epoch 11/20\n",
            "1875/1875 [==============================] - 260s 139ms/step - loss: 0.0496 - classification_loss: 0.0480 - bounding_box_loss: 0.0016 - classification_accuracy: 0.9850 - bounding_box_mse: 0.0016 - val_loss: 0.0385 - val_classification_loss: 0.0367 - val_bounding_box_loss: 0.0018 - val_classification_accuracy: 0.9874 - val_bounding_box_mse: 0.0018\n",
            "Epoch 12/20\n",
            "1875/1875 [==============================] - 253s 135ms/step - loss: 0.0468 - classification_loss: 0.0452 - bounding_box_loss: 0.0016 - classification_accuracy: 0.9859 - bounding_box_mse: 0.0016 - val_loss: 0.0498 - val_classification_loss: 0.0483 - val_bounding_box_loss: 0.0014 - val_classification_accuracy: 0.9854 - val_bounding_box_mse: 0.0014\n",
            "Epoch 13/20\n",
            "1875/1875 [==============================] - 260s 139ms/step - loss: 0.0433 - classification_loss: 0.0418 - bounding_box_loss: 0.0016 - classification_accuracy: 0.9872 - bounding_box_mse: 0.0016 - val_loss: 0.0403 - val_classification_loss: 0.0390 - val_bounding_box_loss: 0.0014 - val_classification_accuracy: 0.9879 - val_bounding_box_mse: 0.0014\n",
            "Epoch 14/20\n",
            "1875/1875 [==============================] - 252s 135ms/step - loss: 0.0422 - classification_loss: 0.0406 - bounding_box_loss: 0.0016 - classification_accuracy: 0.9873 - bounding_box_mse: 0.0016 - val_loss: 0.0523 - val_classification_loss: 0.0507 - val_bounding_box_loss: 0.0017 - val_classification_accuracy: 0.9837 - val_bounding_box_mse: 0.0017\n",
            "Epoch 15/20\n",
            "1875/1875 [==============================] - 253s 135ms/step - loss: 0.0400 - classification_loss: 0.0384 - bounding_box_loss: 0.0016 - classification_accuracy: 0.9883 - bounding_box_mse: 0.0016 - val_loss: 0.0329 - val_classification_loss: 0.0313 - val_bounding_box_loss: 0.0017 - val_classification_accuracy: 0.9898 - val_bounding_box_mse: 0.0017\n",
            "Epoch 16/20\n",
            "1875/1875 [==============================] - 271s 145ms/step - loss: 0.0397 - classification_loss: 0.0381 - bounding_box_loss: 0.0016 - classification_accuracy: 0.9883 - bounding_box_mse: 0.0016 - val_loss: 0.0327 - val_classification_loss: 0.0309 - val_bounding_box_loss: 0.0018 - val_classification_accuracy: 0.9903 - val_bounding_box_mse: 0.0018\n",
            "Epoch 17/20\n",
            "1875/1875 [==============================] - 267s 142ms/step - loss: 0.0383 - classification_loss: 0.0368 - bounding_box_loss: 0.0015 - classification_accuracy: 0.9890 - bounding_box_mse: 0.0015 - val_loss: 0.0402 - val_classification_loss: 0.0387 - val_bounding_box_loss: 0.0015 - val_classification_accuracy: 0.9877 - val_bounding_box_mse: 0.0015\n",
            "Epoch 18/20\n",
            "1875/1875 [==============================] - 277s 147ms/step - loss: 0.0383 - classification_loss: 0.0367 - bounding_box_loss: 0.0016 - classification_accuracy: 0.9888 - bounding_box_mse: 0.0016 - val_loss: 0.0437 - val_classification_loss: 0.0422 - val_bounding_box_loss: 0.0015 - val_classification_accuracy: 0.9863 - val_bounding_box_mse: 0.0015\n",
            "Epoch 19/20\n",
            "1875/1875 [==============================] - 274s 146ms/step - loss: 0.0361 - classification_loss: 0.0346 - bounding_box_loss: 0.0015 - classification_accuracy: 0.9893 - bounding_box_mse: 0.0015 - val_loss: 0.0366 - val_classification_loss: 0.0350 - val_bounding_box_loss: 0.0016 - val_classification_accuracy: 0.9895 - val_bounding_box_mse: 0.0016\n",
            "Epoch 20/20\n",
            "1875/1875 [==============================] - 259s 138ms/step - loss: 0.0360 - classification_loss: 0.0344 - bounding_box_loss: 0.0016 - classification_accuracy: 0.9891 - bounding_box_mse: 0.0016 - val_loss: 0.0310 - val_classification_loss: 0.0293 - val_bounding_box_loss: 0.0017 - val_classification_accuracy: 0.9910 - val_bounding_box_mse: 0.0017\n"
          ]
        },
        {
          "output_type": "execute_result",
          "data": {
            "text/plain": [
              "<keras.src.callbacks.History at 0x7eea313463b0>"
            ]
          },
          "metadata": {},
          "execution_count": 68
        }
      ]
    },
    {
      "cell_type": "code",
      "source": [
        "def intersection_over_union(true_box, pred_box):\n",
        "  x_min_true, y_min_true, x_max_true, y_max_true = np.split(true_box, 4, axis=1)\n",
        "  x_min_pred, y_min_pred, x_max_pred, y_max_pred = np.split(pred_box, 4, axis=1)\n",
        "\n",
        "  x_min_overlap = np.maximum(x_min_true, x_min_pred)\n",
        "  y_min_overlap = np.minimum(y_min_true, y_min_pred)\n",
        "  x_max_overlap = np.minimum(x_max_true, x_max_pred)\n",
        "  y_max_overlap = np.maximum(y_max_true, y_max_pred)\n",
        "\n",
        "  intersection_area = (np.maximum((x_max_overlap - x_min_overlap), 0) * np.maximum((y_max_overlap - y_min_overlap), 0))\n",
        "  true_box_area = (x_max_true - x_min_true) * (y_max_true - y_min_true)\n",
        "  pred_box_area = (x_max_pred - x_min_pred) * (y_max_pred - y_min_pred)\n",
        "  union_area = true_box_area + pred_box_area - intersection_area\n",
        "\n",
        "  smoothing_factor = 1e-10\n",
        "  iou = (intersection_area + smoothing_factor) / (union_area + smoothing_factor)"
      ],
      "metadata": {
        "id": "lnoeH3EBZUcv"
      },
      "execution_count": 69,
      "outputs": []
    },
    {
      "cell_type": "code",
      "source": [],
      "metadata": {
        "id": "2IvAi8QGiDBk"
      },
      "execution_count": null,
      "outputs": []
    }
  ]
}